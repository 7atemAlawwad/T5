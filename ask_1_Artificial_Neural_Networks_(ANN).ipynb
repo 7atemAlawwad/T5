{
  "cells": [
    {
      "cell_type": "markdown",
      "metadata": {
        "id": "view-in-github",
        "colab_type": "text"
      },
      "source": [
        "<a href=\"https://colab.research.google.com/github/7atemAlawwad/T5/blob/main/ask_1_Artificial_Neural_Networks_(ANN).ipynb\" target=\"_parent\"><img src=\"https://colab.research.google.com/assets/colab-badge.svg\" alt=\"Open In Colab\"/></a>"
      ]
    },
    {
      "cell_type": "markdown",
      "id": "cda1ba95",
      "metadata": {
        "id": "cda1ba95"
      },
      "source": [
        "# Exam on Artificial Neural Networks (ANN)\n",
        "\n",
        "Welcome the Artificial Neural Networks (ANN) practical exam. In this exam, you will work on a classification task to predict the outcome of incidents involving buses. You are provided with a dataset that records breakdowns and delays in bus operations. Your task is to build, train, and evaluate an ANN model.\n",
        "\n",
        "---\n",
        "\n",
        "## Dataset Overview\n",
        "\n",
        "### **Dataset:**\n",
        "* Just run the command under the `Load Data` section to get the data downloaded and unzipped or you can access it [here](www.kaggle.com/datasets/khaledzsa/bus-breakdown-and-delays)\n",
        "\n",
        "### **Dataset Name:** Bus Breakdown and Delays\n",
        "\n",
        "### **Description:**  \n",
        "The dataset contains records of incidents involving buses that were either running late or experienced a breakdown. Your task is to predict whether the bus was delayed or had a breakdown based on the features provided.\n",
        "\n",
        "### **Features:**\n",
        "The dataset contains the following columns:\n",
        "\n",
        "- `School_Year`\n",
        "- `Busbreakdown_ID`\n",
        "- `Run_Type`\n",
        "- `Bus_No`\n",
        "- `Route_Number`\n",
        "- `Reason`\n",
        "- `Schools_Serviced`\n",
        "- `Occurred_On`\n",
        "- `Created_On`\n",
        "- `Boro`\n",
        "- `Bus_Company_Name`\n",
        "- `How_Long_Delayed`\n",
        "- `Number_Of_Students_On_The_Bus`\n",
        "- `Has_Contractor_Notified_Schools`\n",
        "- `Has_Contractor_Notified_Parents`\n",
        "- `Have_You_Alerted_OPT`\n",
        "- `Informed_On`\n",
        "- `Incident_Number`\n",
        "- `Last_Updated_On`\n",
        "- `Breakdown_or_Running_Late` (Target Column)\n",
        "- `School_Age_or_PreK`"
      ]
    },
    {
      "cell_type": "markdown",
      "id": "4c2b014b",
      "metadata": {
        "id": "4c2b014b"
      },
      "source": [
        "## Load Data"
      ]
    },
    {
      "cell_type": "code",
      "execution_count": 135,
      "id": "98ad02f5",
      "metadata": {
        "id": "98ad02f5"
      },
      "outputs": [],
      "source": [
        "#!kaggle datasets download -d khaledzsa/bus-breakdown-and-delays\n",
        "#!unzip bus-breakdown-and-delays.zip"
      ]
    },
    {
      "cell_type": "markdown",
      "id": "3e39620c",
      "metadata": {
        "id": "3e39620c"
      },
      "source": [
        "## Importing Libraries"
      ]
    },
    {
      "cell_type": "code",
      "execution_count": 136,
      "id": "UM7zg8L62xT7",
      "metadata": {
        "id": "UM7zg8L62xT7"
      },
      "outputs": [],
      "source": [
        "import pandas as pd\n",
        "import numpy as np\n",
        "import matplotlib.pyplot as plt\n",
        "import seaborn as sns"
      ]
    },
    {
      "cell_type": "markdown",
      "id": "71ccd4e2",
      "metadata": {
        "id": "71ccd4e2"
      },
      "source": [
        "## Exploratory Data Analysis (EDA)\n",
        "This could include:\n",
        "* **Inspect the dataset**\n",
        "\n",
        "* **Dataset structure**\n",
        "\n",
        "* **Summary statistics**\n",
        "\n",
        "* **Check for missing values**\n",
        "\n",
        "* **Distribution of features**\n",
        "\n",
        "* **Categorical feature analysis**\n",
        "\n",
        "* **Correlation matrix**\n",
        "\n",
        "* **Outlier detection**\n",
        "\n",
        "And add more as needed!"
      ]
    },
    {
      "cell_type": "code",
      "execution_count": 137,
      "id": "0b800b0c",
      "metadata": {
        "colab": {
          "base_uri": "https://localhost:8080/",
          "height": 635
        },
        "id": "0b800b0c",
        "outputId": "68b5adf3-b02e-4840-ee63-4c7195d4c3c1"
      },
      "outputs": [
        {
          "output_type": "execute_result",
          "data": {
            "text/plain": [
              "       School_Year  Busbreakdown_ID             Run_Type  Bus_No Route_Number  \\\n",
              "0        2015-2016          1224901             Pre-K/EI     811            1   \n",
              "1        2015-2016          1225098             Pre-K/EI    9302            1   \n",
              "2        2015-2016          1215800             Pre-K/EI     358            2   \n",
              "3        2015-2016          1215511             Pre-K/EI     331            2   \n",
              "4        2015-2016          1215828             Pre-K/EI     332            2   \n",
              "...            ...              ...                  ...     ...          ...   \n",
              "147967   2016-2017          1338452             Pre-K/EI    9345            2   \n",
              "147968   2016-2017          1341521             Pre-K/EI    0001            5   \n",
              "147969   2016-2017          1353044    Special Ed PM Run  GC0112         X928   \n",
              "147970   2016-2017          1353045    Special Ed PM Run   5525D         Q920   \n",
              "147971   2016-2017          1353046  Project Read PM Run    2530         K617   \n",
              "\n",
              "               Reason Schools_Serviced             Occurred_On  \\\n",
              "0               Other             C353  10/26/2015 08:30:00 AM   \n",
              "1       Heavy Traffic             C814  10/27/2015 07:10:00 AM   \n",
              "2       Heavy Traffic             C195  09/18/2015 07:36:00 AM   \n",
              "3               Other             C178  09/17/2015 08:08:00 AM   \n",
              "4               Other             S176  09/18/2015 07:39:00 AM   \n",
              "...               ...              ...                     ...   \n",
              "147967  Heavy Traffic             C530  04/05/2017 08:00:00 AM   \n",
              "147968  Heavy Traffic             C579  04/24/2017 07:42:00 AM   \n",
              "147969  Heavy Traffic            09003  05/25/2017 04:22:00 PM   \n",
              "147970    Won`t Start            24457  05/25/2017 04:27:00 PM   \n",
              "147971          Other            21436  05/25/2017 04:36:00 PM   \n",
              "\n",
              "                    Created_On      Boro  ... How_Long_Delayed  \\\n",
              "0       10/26/2015 08:40:00 AM     Bronx  ...        10MINUTES   \n",
              "1       10/27/2015 07:11:00 AM     Bronx  ...       25 MINUTES   \n",
              "2       09/18/2015 07:38:00 AM     Bronx  ...       15 MINUTES   \n",
              "3       09/17/2015 08:12:00 AM     Bronx  ...       10 minutes   \n",
              "4       09/18/2015 07:45:00 AM     Bronx  ...        10MINUTES   \n",
              "...                        ...       ...  ...              ...   \n",
              "147967  04/05/2017 08:10:00 AM     Bronx  ...            15-20   \n",
              "147968  04/24/2017 07:44:00 AM     Bronx  ...          20 MINS   \n",
              "147969  05/25/2017 04:28:00 PM     Bronx  ...        20-25MINS   \n",
              "147970  05/25/2017 04:30:00 PM    Queens  ...              NaN   \n",
              "147971  05/25/2017 04:37:00 PM  Brooklyn  ...            45min   \n",
              "\n",
              "       Number_Of_Students_On_The_Bus  Has_Contractor_Notified_Schools  \\\n",
              "0                                  5                              Yes   \n",
              "1                                  3                              Yes   \n",
              "2                                 12                              Yes   \n",
              "3                                 11                              Yes   \n",
              "4                                 12                              Yes   \n",
              "...                              ...                              ...   \n",
              "147967                             7                              Yes   \n",
              "147968                             0                              Yes   \n",
              "147969                             0                              Yes   \n",
              "147970                             0                              Yes   \n",
              "147971                             7                              Yes   \n",
              "\n",
              "       Has_Contractor_Notified_Parents Have_You_Alerted_OPT  \\\n",
              "0                                  Yes                   No   \n",
              "1                                  Yes                   No   \n",
              "2                                  Yes                  Yes   \n",
              "3                                  Yes                  Yes   \n",
              "4                                  Yes                   No   \n",
              "...                                ...                  ...   \n",
              "147967                             Yes                   No   \n",
              "147968                             Yes                   No   \n",
              "147969                             Yes                  Yes   \n",
              "147970                             Yes                   No   \n",
              "147971                             Yes                  Yes   \n",
              "\n",
              "                   Informed_On Incident_Number         Last_Updated_On  \\\n",
              "0       10/26/2015 08:40:00 AM             NaN  10/26/2015 08:40:39 AM   \n",
              "1       10/27/2015 07:11:00 AM             NaN  10/27/2015 07:11:22 AM   \n",
              "2       09/18/2015 07:38:00 AM             NaN  09/18/2015 07:38:44 AM   \n",
              "3       09/17/2015 08:12:00 AM             NaN  09/17/2015 08:12:08 AM   \n",
              "4       09/18/2015 07:45:00 AM             NaN  09/18/2015 07:56:40 AM   \n",
              "...                        ...             ...                     ...   \n",
              "147967  04/05/2017 08:10:00 AM             NaN  04/05/2017 08:10:15 AM   \n",
              "147968  04/24/2017 07:44:00 AM             NaN  04/24/2017 07:44:15 AM   \n",
              "147969  05/25/2017 04:28:00 PM        90323827  05/25/2017 04:34:36 PM   \n",
              "147970  05/25/2017 04:30:00 PM             NaN  05/25/2017 04:30:07 PM   \n",
              "147971  05/25/2017 04:37:00 PM             NaN  05/25/2017 04:37:37 PM   \n",
              "\n",
              "       Breakdown_or_Running_Late School_Age_or_PreK  \n",
              "0                   Running Late              Pre-K  \n",
              "1                   Running Late              Pre-K  \n",
              "2                   Running Late              Pre-K  \n",
              "3                   Running Late              Pre-K  \n",
              "4                   Running Late              Pre-K  \n",
              "...                          ...                ...  \n",
              "147967              Running Late              Pre-K  \n",
              "147968              Running Late              Pre-K  \n",
              "147969              Running Late         School-Age  \n",
              "147970                 Breakdown         School-Age  \n",
              "147971              Running Late         School-Age  \n",
              "\n",
              "[147972 rows x 21 columns]"
            ],
            "text/html": [
              "\n",
              "  <div id=\"df-d56ee0c9-e352-4dcd-a470-274c113aa9b8\" class=\"colab-df-container\">\n",
              "    <div>\n",
              "<style scoped>\n",
              "    .dataframe tbody tr th:only-of-type {\n",
              "        vertical-align: middle;\n",
              "    }\n",
              "\n",
              "    .dataframe tbody tr th {\n",
              "        vertical-align: top;\n",
              "    }\n",
              "\n",
              "    .dataframe thead th {\n",
              "        text-align: right;\n",
              "    }\n",
              "</style>\n",
              "<table border=\"1\" class=\"dataframe\">\n",
              "  <thead>\n",
              "    <tr style=\"text-align: right;\">\n",
              "      <th></th>\n",
              "      <th>School_Year</th>\n",
              "      <th>Busbreakdown_ID</th>\n",
              "      <th>Run_Type</th>\n",
              "      <th>Bus_No</th>\n",
              "      <th>Route_Number</th>\n",
              "      <th>Reason</th>\n",
              "      <th>Schools_Serviced</th>\n",
              "      <th>Occurred_On</th>\n",
              "      <th>Created_On</th>\n",
              "      <th>Boro</th>\n",
              "      <th>...</th>\n",
              "      <th>How_Long_Delayed</th>\n",
              "      <th>Number_Of_Students_On_The_Bus</th>\n",
              "      <th>Has_Contractor_Notified_Schools</th>\n",
              "      <th>Has_Contractor_Notified_Parents</th>\n",
              "      <th>Have_You_Alerted_OPT</th>\n",
              "      <th>Informed_On</th>\n",
              "      <th>Incident_Number</th>\n",
              "      <th>Last_Updated_On</th>\n",
              "      <th>Breakdown_or_Running_Late</th>\n",
              "      <th>School_Age_or_PreK</th>\n",
              "    </tr>\n",
              "  </thead>\n",
              "  <tbody>\n",
              "    <tr>\n",
              "      <th>0</th>\n",
              "      <td>2015-2016</td>\n",
              "      <td>1224901</td>\n",
              "      <td>Pre-K/EI</td>\n",
              "      <td>811</td>\n",
              "      <td>1</td>\n",
              "      <td>Other</td>\n",
              "      <td>C353</td>\n",
              "      <td>10/26/2015 08:30:00 AM</td>\n",
              "      <td>10/26/2015 08:40:00 AM</td>\n",
              "      <td>Bronx</td>\n",
              "      <td>...</td>\n",
              "      <td>10MINUTES</td>\n",
              "      <td>5</td>\n",
              "      <td>Yes</td>\n",
              "      <td>Yes</td>\n",
              "      <td>No</td>\n",
              "      <td>10/26/2015 08:40:00 AM</td>\n",
              "      <td>NaN</td>\n",
              "      <td>10/26/2015 08:40:39 AM</td>\n",
              "      <td>Running Late</td>\n",
              "      <td>Pre-K</td>\n",
              "    </tr>\n",
              "    <tr>\n",
              "      <th>1</th>\n",
              "      <td>2015-2016</td>\n",
              "      <td>1225098</td>\n",
              "      <td>Pre-K/EI</td>\n",
              "      <td>9302</td>\n",
              "      <td>1</td>\n",
              "      <td>Heavy Traffic</td>\n",
              "      <td>C814</td>\n",
              "      <td>10/27/2015 07:10:00 AM</td>\n",
              "      <td>10/27/2015 07:11:00 AM</td>\n",
              "      <td>Bronx</td>\n",
              "      <td>...</td>\n",
              "      <td>25 MINUTES</td>\n",
              "      <td>3</td>\n",
              "      <td>Yes</td>\n",
              "      <td>Yes</td>\n",
              "      <td>No</td>\n",
              "      <td>10/27/2015 07:11:00 AM</td>\n",
              "      <td>NaN</td>\n",
              "      <td>10/27/2015 07:11:22 AM</td>\n",
              "      <td>Running Late</td>\n",
              "      <td>Pre-K</td>\n",
              "    </tr>\n",
              "    <tr>\n",
              "      <th>2</th>\n",
              "      <td>2015-2016</td>\n",
              "      <td>1215800</td>\n",
              "      <td>Pre-K/EI</td>\n",
              "      <td>358</td>\n",
              "      <td>2</td>\n",
              "      <td>Heavy Traffic</td>\n",
              "      <td>C195</td>\n",
              "      <td>09/18/2015 07:36:00 AM</td>\n",
              "      <td>09/18/2015 07:38:00 AM</td>\n",
              "      <td>Bronx</td>\n",
              "      <td>...</td>\n",
              "      <td>15 MINUTES</td>\n",
              "      <td>12</td>\n",
              "      <td>Yes</td>\n",
              "      <td>Yes</td>\n",
              "      <td>Yes</td>\n",
              "      <td>09/18/2015 07:38:00 AM</td>\n",
              "      <td>NaN</td>\n",
              "      <td>09/18/2015 07:38:44 AM</td>\n",
              "      <td>Running Late</td>\n",
              "      <td>Pre-K</td>\n",
              "    </tr>\n",
              "    <tr>\n",
              "      <th>3</th>\n",
              "      <td>2015-2016</td>\n",
              "      <td>1215511</td>\n",
              "      <td>Pre-K/EI</td>\n",
              "      <td>331</td>\n",
              "      <td>2</td>\n",
              "      <td>Other</td>\n",
              "      <td>C178</td>\n",
              "      <td>09/17/2015 08:08:00 AM</td>\n",
              "      <td>09/17/2015 08:12:00 AM</td>\n",
              "      <td>Bronx</td>\n",
              "      <td>...</td>\n",
              "      <td>10 minutes</td>\n",
              "      <td>11</td>\n",
              "      <td>Yes</td>\n",
              "      <td>Yes</td>\n",
              "      <td>Yes</td>\n",
              "      <td>09/17/2015 08:12:00 AM</td>\n",
              "      <td>NaN</td>\n",
              "      <td>09/17/2015 08:12:08 AM</td>\n",
              "      <td>Running Late</td>\n",
              "      <td>Pre-K</td>\n",
              "    </tr>\n",
              "    <tr>\n",
              "      <th>4</th>\n",
              "      <td>2015-2016</td>\n",
              "      <td>1215828</td>\n",
              "      <td>Pre-K/EI</td>\n",
              "      <td>332</td>\n",
              "      <td>2</td>\n",
              "      <td>Other</td>\n",
              "      <td>S176</td>\n",
              "      <td>09/18/2015 07:39:00 AM</td>\n",
              "      <td>09/18/2015 07:45:00 AM</td>\n",
              "      <td>Bronx</td>\n",
              "      <td>...</td>\n",
              "      <td>10MINUTES</td>\n",
              "      <td>12</td>\n",
              "      <td>Yes</td>\n",
              "      <td>Yes</td>\n",
              "      <td>No</td>\n",
              "      <td>09/18/2015 07:45:00 AM</td>\n",
              "      <td>NaN</td>\n",
              "      <td>09/18/2015 07:56:40 AM</td>\n",
              "      <td>Running Late</td>\n",
              "      <td>Pre-K</td>\n",
              "    </tr>\n",
              "    <tr>\n",
              "      <th>...</th>\n",
              "      <td>...</td>\n",
              "      <td>...</td>\n",
              "      <td>...</td>\n",
              "      <td>...</td>\n",
              "      <td>...</td>\n",
              "      <td>...</td>\n",
              "      <td>...</td>\n",
              "      <td>...</td>\n",
              "      <td>...</td>\n",
              "      <td>...</td>\n",
              "      <td>...</td>\n",
              "      <td>...</td>\n",
              "      <td>...</td>\n",
              "      <td>...</td>\n",
              "      <td>...</td>\n",
              "      <td>...</td>\n",
              "      <td>...</td>\n",
              "      <td>...</td>\n",
              "      <td>...</td>\n",
              "      <td>...</td>\n",
              "      <td>...</td>\n",
              "    </tr>\n",
              "    <tr>\n",
              "      <th>147967</th>\n",
              "      <td>2016-2017</td>\n",
              "      <td>1338452</td>\n",
              "      <td>Pre-K/EI</td>\n",
              "      <td>9345</td>\n",
              "      <td>2</td>\n",
              "      <td>Heavy Traffic</td>\n",
              "      <td>C530</td>\n",
              "      <td>04/05/2017 08:00:00 AM</td>\n",
              "      <td>04/05/2017 08:10:00 AM</td>\n",
              "      <td>Bronx</td>\n",
              "      <td>...</td>\n",
              "      <td>15-20</td>\n",
              "      <td>7</td>\n",
              "      <td>Yes</td>\n",
              "      <td>Yes</td>\n",
              "      <td>No</td>\n",
              "      <td>04/05/2017 08:10:00 AM</td>\n",
              "      <td>NaN</td>\n",
              "      <td>04/05/2017 08:10:15 AM</td>\n",
              "      <td>Running Late</td>\n",
              "      <td>Pre-K</td>\n",
              "    </tr>\n",
              "    <tr>\n",
              "      <th>147968</th>\n",
              "      <td>2016-2017</td>\n",
              "      <td>1341521</td>\n",
              "      <td>Pre-K/EI</td>\n",
              "      <td>0001</td>\n",
              "      <td>5</td>\n",
              "      <td>Heavy Traffic</td>\n",
              "      <td>C579</td>\n",
              "      <td>04/24/2017 07:42:00 AM</td>\n",
              "      <td>04/24/2017 07:44:00 AM</td>\n",
              "      <td>Bronx</td>\n",
              "      <td>...</td>\n",
              "      <td>20 MINS</td>\n",
              "      <td>0</td>\n",
              "      <td>Yes</td>\n",
              "      <td>Yes</td>\n",
              "      <td>No</td>\n",
              "      <td>04/24/2017 07:44:00 AM</td>\n",
              "      <td>NaN</td>\n",
              "      <td>04/24/2017 07:44:15 AM</td>\n",
              "      <td>Running Late</td>\n",
              "      <td>Pre-K</td>\n",
              "    </tr>\n",
              "    <tr>\n",
              "      <th>147969</th>\n",
              "      <td>2016-2017</td>\n",
              "      <td>1353044</td>\n",
              "      <td>Special Ed PM Run</td>\n",
              "      <td>GC0112</td>\n",
              "      <td>X928</td>\n",
              "      <td>Heavy Traffic</td>\n",
              "      <td>09003</td>\n",
              "      <td>05/25/2017 04:22:00 PM</td>\n",
              "      <td>05/25/2017 04:28:00 PM</td>\n",
              "      <td>Bronx</td>\n",
              "      <td>...</td>\n",
              "      <td>20-25MINS</td>\n",
              "      <td>0</td>\n",
              "      <td>Yes</td>\n",
              "      <td>Yes</td>\n",
              "      <td>Yes</td>\n",
              "      <td>05/25/2017 04:28:00 PM</td>\n",
              "      <td>90323827</td>\n",
              "      <td>05/25/2017 04:34:36 PM</td>\n",
              "      <td>Running Late</td>\n",
              "      <td>School-Age</td>\n",
              "    </tr>\n",
              "    <tr>\n",
              "      <th>147970</th>\n",
              "      <td>2016-2017</td>\n",
              "      <td>1353045</td>\n",
              "      <td>Special Ed PM Run</td>\n",
              "      <td>5525D</td>\n",
              "      <td>Q920</td>\n",
              "      <td>Won`t Start</td>\n",
              "      <td>24457</td>\n",
              "      <td>05/25/2017 04:27:00 PM</td>\n",
              "      <td>05/25/2017 04:30:00 PM</td>\n",
              "      <td>Queens</td>\n",
              "      <td>...</td>\n",
              "      <td>NaN</td>\n",
              "      <td>0</td>\n",
              "      <td>Yes</td>\n",
              "      <td>Yes</td>\n",
              "      <td>No</td>\n",
              "      <td>05/25/2017 04:30:00 PM</td>\n",
              "      <td>NaN</td>\n",
              "      <td>05/25/2017 04:30:07 PM</td>\n",
              "      <td>Breakdown</td>\n",
              "      <td>School-Age</td>\n",
              "    </tr>\n",
              "    <tr>\n",
              "      <th>147971</th>\n",
              "      <td>2016-2017</td>\n",
              "      <td>1353046</td>\n",
              "      <td>Project Read PM Run</td>\n",
              "      <td>2530</td>\n",
              "      <td>K617</td>\n",
              "      <td>Other</td>\n",
              "      <td>21436</td>\n",
              "      <td>05/25/2017 04:36:00 PM</td>\n",
              "      <td>05/25/2017 04:37:00 PM</td>\n",
              "      <td>Brooklyn</td>\n",
              "      <td>...</td>\n",
              "      <td>45min</td>\n",
              "      <td>7</td>\n",
              "      <td>Yes</td>\n",
              "      <td>Yes</td>\n",
              "      <td>Yes</td>\n",
              "      <td>05/25/2017 04:37:00 PM</td>\n",
              "      <td>NaN</td>\n",
              "      <td>05/25/2017 04:37:37 PM</td>\n",
              "      <td>Running Late</td>\n",
              "      <td>School-Age</td>\n",
              "    </tr>\n",
              "  </tbody>\n",
              "</table>\n",
              "<p>147972 rows × 21 columns</p>\n",
              "</div>\n",
              "    <div class=\"colab-df-buttons\">\n",
              "\n",
              "  <div class=\"colab-df-container\">\n",
              "    <button class=\"colab-df-convert\" onclick=\"convertToInteractive('df-d56ee0c9-e352-4dcd-a470-274c113aa9b8')\"\n",
              "            title=\"Convert this dataframe to an interactive table.\"\n",
              "            style=\"display:none;\">\n",
              "\n",
              "  <svg xmlns=\"http://www.w3.org/2000/svg\" height=\"24px\" viewBox=\"0 -960 960 960\">\n",
              "    <path d=\"M120-120v-720h720v720H120Zm60-500h600v-160H180v160Zm220 220h160v-160H400v160Zm0 220h160v-160H400v160ZM180-400h160v-160H180v160Zm440 0h160v-160H620v160ZM180-180h160v-160H180v160Zm440 0h160v-160H620v160Z\"/>\n",
              "  </svg>\n",
              "    </button>\n",
              "\n",
              "  <style>\n",
              "    .colab-df-container {\n",
              "      display:flex;\n",
              "      gap: 12px;\n",
              "    }\n",
              "\n",
              "    .colab-df-convert {\n",
              "      background-color: #E8F0FE;\n",
              "      border: none;\n",
              "      border-radius: 50%;\n",
              "      cursor: pointer;\n",
              "      display: none;\n",
              "      fill: #1967D2;\n",
              "      height: 32px;\n",
              "      padding: 0 0 0 0;\n",
              "      width: 32px;\n",
              "    }\n",
              "\n",
              "    .colab-df-convert:hover {\n",
              "      background-color: #E2EBFA;\n",
              "      box-shadow: 0px 1px 2px rgba(60, 64, 67, 0.3), 0px 1px 3px 1px rgba(60, 64, 67, 0.15);\n",
              "      fill: #174EA6;\n",
              "    }\n",
              "\n",
              "    .colab-df-buttons div {\n",
              "      margin-bottom: 4px;\n",
              "    }\n",
              "\n",
              "    [theme=dark] .colab-df-convert {\n",
              "      background-color: #3B4455;\n",
              "      fill: #D2E3FC;\n",
              "    }\n",
              "\n",
              "    [theme=dark] .colab-df-convert:hover {\n",
              "      background-color: #434B5C;\n",
              "      box-shadow: 0px 1px 3px 1px rgba(0, 0, 0, 0.15);\n",
              "      filter: drop-shadow(0px 1px 2px rgba(0, 0, 0, 0.3));\n",
              "      fill: #FFFFFF;\n",
              "    }\n",
              "  </style>\n",
              "\n",
              "    <script>\n",
              "      const buttonEl =\n",
              "        document.querySelector('#df-d56ee0c9-e352-4dcd-a470-274c113aa9b8 button.colab-df-convert');\n",
              "      buttonEl.style.display =\n",
              "        google.colab.kernel.accessAllowed ? 'block' : 'none';\n",
              "\n",
              "      async function convertToInteractive(key) {\n",
              "        const element = document.querySelector('#df-d56ee0c9-e352-4dcd-a470-274c113aa9b8');\n",
              "        const dataTable =\n",
              "          await google.colab.kernel.invokeFunction('convertToInteractive',\n",
              "                                                    [key], {});\n",
              "        if (!dataTable) return;\n",
              "\n",
              "        const docLinkHtml = 'Like what you see? Visit the ' +\n",
              "          '<a target=\"_blank\" href=https://colab.research.google.com/notebooks/data_table.ipynb>data table notebook</a>'\n",
              "          + ' to learn more about interactive tables.';\n",
              "        element.innerHTML = '';\n",
              "        dataTable['output_type'] = 'display_data';\n",
              "        await google.colab.output.renderOutput(dataTable, element);\n",
              "        const docLink = document.createElement('div');\n",
              "        docLink.innerHTML = docLinkHtml;\n",
              "        element.appendChild(docLink);\n",
              "      }\n",
              "    </script>\n",
              "  </div>\n",
              "\n",
              "\n",
              "<div id=\"df-3599d001-b7fe-4596-a331-ab35b79e58c4\">\n",
              "  <button class=\"colab-df-quickchart\" onclick=\"quickchart('df-3599d001-b7fe-4596-a331-ab35b79e58c4')\"\n",
              "            title=\"Suggest charts\"\n",
              "            style=\"display:none;\">\n",
              "\n",
              "<svg xmlns=\"http://www.w3.org/2000/svg\" height=\"24px\"viewBox=\"0 0 24 24\"\n",
              "     width=\"24px\">\n",
              "    <g>\n",
              "        <path d=\"M19 3H5c-1.1 0-2 .9-2 2v14c0 1.1.9 2 2 2h14c1.1 0 2-.9 2-2V5c0-1.1-.9-2-2-2zM9 17H7v-7h2v7zm4 0h-2V7h2v10zm4 0h-2v-4h2v4z\"/>\n",
              "    </g>\n",
              "</svg>\n",
              "  </button>\n",
              "\n",
              "<style>\n",
              "  .colab-df-quickchart {\n",
              "      --bg-color: #E8F0FE;\n",
              "      --fill-color: #1967D2;\n",
              "      --hover-bg-color: #E2EBFA;\n",
              "      --hover-fill-color: #174EA6;\n",
              "      --disabled-fill-color: #AAA;\n",
              "      --disabled-bg-color: #DDD;\n",
              "  }\n",
              "\n",
              "  [theme=dark] .colab-df-quickchart {\n",
              "      --bg-color: #3B4455;\n",
              "      --fill-color: #D2E3FC;\n",
              "      --hover-bg-color: #434B5C;\n",
              "      --hover-fill-color: #FFFFFF;\n",
              "      --disabled-bg-color: #3B4455;\n",
              "      --disabled-fill-color: #666;\n",
              "  }\n",
              "\n",
              "  .colab-df-quickchart {\n",
              "    background-color: var(--bg-color);\n",
              "    border: none;\n",
              "    border-radius: 50%;\n",
              "    cursor: pointer;\n",
              "    display: none;\n",
              "    fill: var(--fill-color);\n",
              "    height: 32px;\n",
              "    padding: 0;\n",
              "    width: 32px;\n",
              "  }\n",
              "\n",
              "  .colab-df-quickchart:hover {\n",
              "    background-color: var(--hover-bg-color);\n",
              "    box-shadow: 0 1px 2px rgba(60, 64, 67, 0.3), 0 1px 3px 1px rgba(60, 64, 67, 0.15);\n",
              "    fill: var(--button-hover-fill-color);\n",
              "  }\n",
              "\n",
              "  .colab-df-quickchart-complete:disabled,\n",
              "  .colab-df-quickchart-complete:disabled:hover {\n",
              "    background-color: var(--disabled-bg-color);\n",
              "    fill: var(--disabled-fill-color);\n",
              "    box-shadow: none;\n",
              "  }\n",
              "\n",
              "  .colab-df-spinner {\n",
              "    border: 2px solid var(--fill-color);\n",
              "    border-color: transparent;\n",
              "    border-bottom-color: var(--fill-color);\n",
              "    animation:\n",
              "      spin 1s steps(1) infinite;\n",
              "  }\n",
              "\n",
              "  @keyframes spin {\n",
              "    0% {\n",
              "      border-color: transparent;\n",
              "      border-bottom-color: var(--fill-color);\n",
              "      border-left-color: var(--fill-color);\n",
              "    }\n",
              "    20% {\n",
              "      border-color: transparent;\n",
              "      border-left-color: var(--fill-color);\n",
              "      border-top-color: var(--fill-color);\n",
              "    }\n",
              "    30% {\n",
              "      border-color: transparent;\n",
              "      border-left-color: var(--fill-color);\n",
              "      border-top-color: var(--fill-color);\n",
              "      border-right-color: var(--fill-color);\n",
              "    }\n",
              "    40% {\n",
              "      border-color: transparent;\n",
              "      border-right-color: var(--fill-color);\n",
              "      border-top-color: var(--fill-color);\n",
              "    }\n",
              "    60% {\n",
              "      border-color: transparent;\n",
              "      border-right-color: var(--fill-color);\n",
              "    }\n",
              "    80% {\n",
              "      border-color: transparent;\n",
              "      border-right-color: var(--fill-color);\n",
              "      border-bottom-color: var(--fill-color);\n",
              "    }\n",
              "    90% {\n",
              "      border-color: transparent;\n",
              "      border-bottom-color: var(--fill-color);\n",
              "    }\n",
              "  }\n",
              "</style>\n",
              "\n",
              "  <script>\n",
              "    async function quickchart(key) {\n",
              "      const quickchartButtonEl =\n",
              "        document.querySelector('#' + key + ' button');\n",
              "      quickchartButtonEl.disabled = true;  // To prevent multiple clicks.\n",
              "      quickchartButtonEl.classList.add('colab-df-spinner');\n",
              "      try {\n",
              "        const charts = await google.colab.kernel.invokeFunction(\n",
              "            'suggestCharts', [key], {});\n",
              "      } catch (error) {\n",
              "        console.error('Error during call to suggestCharts:', error);\n",
              "      }\n",
              "      quickchartButtonEl.classList.remove('colab-df-spinner');\n",
              "      quickchartButtonEl.classList.add('colab-df-quickchart-complete');\n",
              "    }\n",
              "    (() => {\n",
              "      let quickchartButtonEl =\n",
              "        document.querySelector('#df-3599d001-b7fe-4596-a331-ab35b79e58c4 button');\n",
              "      quickchartButtonEl.style.display =\n",
              "        google.colab.kernel.accessAllowed ? 'block' : 'none';\n",
              "    })();\n",
              "  </script>\n",
              "</div>\n",
              "\n",
              "  <div id=\"id_00af7c9e-2b8b-4995-8915-638187384d73\">\n",
              "    <style>\n",
              "      .colab-df-generate {\n",
              "        background-color: #E8F0FE;\n",
              "        border: none;\n",
              "        border-radius: 50%;\n",
              "        cursor: pointer;\n",
              "        display: none;\n",
              "        fill: #1967D2;\n",
              "        height: 32px;\n",
              "        padding: 0 0 0 0;\n",
              "        width: 32px;\n",
              "      }\n",
              "\n",
              "      .colab-df-generate:hover {\n",
              "        background-color: #E2EBFA;\n",
              "        box-shadow: 0px 1px 2px rgba(60, 64, 67, 0.3), 0px 1px 3px 1px rgba(60, 64, 67, 0.15);\n",
              "        fill: #174EA6;\n",
              "      }\n",
              "\n",
              "      [theme=dark] .colab-df-generate {\n",
              "        background-color: #3B4455;\n",
              "        fill: #D2E3FC;\n",
              "      }\n",
              "\n",
              "      [theme=dark] .colab-df-generate:hover {\n",
              "        background-color: #434B5C;\n",
              "        box-shadow: 0px 1px 3px 1px rgba(0, 0, 0, 0.15);\n",
              "        filter: drop-shadow(0px 1px 2px rgba(0, 0, 0, 0.3));\n",
              "        fill: #FFFFFF;\n",
              "      }\n",
              "    </style>\n",
              "    <button class=\"colab-df-generate\" onclick=\"generateWithVariable('df')\"\n",
              "            title=\"Generate code using this dataframe.\"\n",
              "            style=\"display:none;\">\n",
              "\n",
              "  <svg xmlns=\"http://www.w3.org/2000/svg\" height=\"24px\"viewBox=\"0 0 24 24\"\n",
              "       width=\"24px\">\n",
              "    <path d=\"M7,19H8.4L18.45,9,17,7.55,7,17.6ZM5,21V16.75L18.45,3.32a2,2,0,0,1,2.83,0l1.4,1.43a1.91,1.91,0,0,1,.58,1.4,1.91,1.91,0,0,1-.58,1.4L9.25,21ZM18.45,9,17,7.55Zm-12,3A5.31,5.31,0,0,0,4.9,8.1,5.31,5.31,0,0,0,1,6.5,5.31,5.31,0,0,0,4.9,4.9,5.31,5.31,0,0,0,6.5,1,5.31,5.31,0,0,0,8.1,4.9,5.31,5.31,0,0,0,12,6.5,5.46,5.46,0,0,0,6.5,12Z\"/>\n",
              "  </svg>\n",
              "    </button>\n",
              "    <script>\n",
              "      (() => {\n",
              "      const buttonEl =\n",
              "        document.querySelector('#id_00af7c9e-2b8b-4995-8915-638187384d73 button.colab-df-generate');\n",
              "      buttonEl.style.display =\n",
              "        google.colab.kernel.accessAllowed ? 'block' : 'none';\n",
              "\n",
              "      buttonEl.onclick = () => {\n",
              "        google.colab.notebook.generateWithVariable('df');\n",
              "      }\n",
              "      })();\n",
              "    </script>\n",
              "  </div>\n",
              "\n",
              "    </div>\n",
              "  </div>\n"
            ],
            "application/vnd.google.colaboratory.intrinsic+json": {
              "type": "dataframe",
              "variable_name": "df"
            }
          },
          "metadata": {},
          "execution_count": 137
        }
      ],
      "source": [
        "df = pd.read_csv('Bus_Breakdown_and_Delays.csv')\n",
        "df"
      ]
    },
    {
      "cell_type": "code",
      "execution_count": 138,
      "id": "2aTJCm3n3br3",
      "metadata": {
        "colab": {
          "base_uri": "https://localhost:8080/"
        },
        "id": "2aTJCm3n3br3",
        "outputId": "0bc721a4-d795-4611-b571-1f5f4ba2bed1"
      },
      "outputs": [
        {
          "output_type": "stream",
          "name": "stdout",
          "text": [
            "<class 'pandas.core.frame.DataFrame'>\n",
            "RangeIndex: 147972 entries, 0 to 147971\n",
            "Data columns (total 21 columns):\n",
            " #   Column                           Non-Null Count   Dtype \n",
            "---  ------                           --------------   ----- \n",
            " 0   School_Year                      147972 non-null  object\n",
            " 1   Busbreakdown_ID                  147972 non-null  int64 \n",
            " 2   Run_Type                         147883 non-null  object\n",
            " 3   Bus_No                           147972 non-null  object\n",
            " 4   Route_Number                     147884 non-null  object\n",
            " 5   Reason                           147870 non-null  object\n",
            " 6   Schools_Serviced                 147972 non-null  object\n",
            " 7   Occurred_On                      147972 non-null  object\n",
            " 8   Created_On                       147972 non-null  object\n",
            " 9   Boro                             141654 non-null  object\n",
            " 10  Bus_Company_Name                 147972 non-null  object\n",
            " 11  How_Long_Delayed                 126342 non-null  object\n",
            " 12  Number_Of_Students_On_The_Bus    147972 non-null  int64 \n",
            " 13  Has_Contractor_Notified_Schools  147972 non-null  object\n",
            " 14  Has_Contractor_Notified_Parents  147972 non-null  object\n",
            " 15  Have_You_Alerted_OPT             147972 non-null  object\n",
            " 16  Informed_On                      147972 non-null  object\n",
            " 17  Incident_Number                  5632 non-null    object\n",
            " 18  Last_Updated_On                  147972 non-null  object\n",
            " 19  Breakdown_or_Running_Late        147972 non-null  object\n",
            " 20  School_Age_or_PreK               147972 non-null  object\n",
            "dtypes: int64(2), object(19)\n",
            "memory usage: 23.7+ MB\n"
          ]
        }
      ],
      "source": [
        "df.info()"
      ]
    },
    {
      "cell_type": "code",
      "execution_count": 139,
      "id": "uUuNYvqk3bpQ",
      "metadata": {
        "colab": {
          "base_uri": "https://localhost:8080/",
          "height": 300
        },
        "id": "uUuNYvqk3bpQ",
        "outputId": "0437167b-67dc-4187-da4b-45e42f307d00"
      },
      "outputs": [
        {
          "output_type": "execute_result",
          "data": {
            "text/plain": [
              "       Busbreakdown_ID  Number_Of_Students_On_The_Bus\n",
              "count     1.479720e+05                  147972.000000\n",
              "mean      1.287779e+06                       3.590071\n",
              "std       4.324338e+04                      55.365859\n",
              "min       1.212681e+06                       0.000000\n",
              "25%       1.250438e+06                       0.000000\n",
              "50%       1.287844e+06                       0.000000\n",
              "75%       1.325191e+06                       4.000000\n",
              "max       1.362605e+06                    9007.000000"
            ],
            "text/html": [
              "\n",
              "  <div id=\"df-7bc3667b-4b6e-4bb2-9baa-1f0b7687fdc4\" class=\"colab-df-container\">\n",
              "    <div>\n",
              "<style scoped>\n",
              "    .dataframe tbody tr th:only-of-type {\n",
              "        vertical-align: middle;\n",
              "    }\n",
              "\n",
              "    .dataframe tbody tr th {\n",
              "        vertical-align: top;\n",
              "    }\n",
              "\n",
              "    .dataframe thead th {\n",
              "        text-align: right;\n",
              "    }\n",
              "</style>\n",
              "<table border=\"1\" class=\"dataframe\">\n",
              "  <thead>\n",
              "    <tr style=\"text-align: right;\">\n",
              "      <th></th>\n",
              "      <th>Busbreakdown_ID</th>\n",
              "      <th>Number_Of_Students_On_The_Bus</th>\n",
              "    </tr>\n",
              "  </thead>\n",
              "  <tbody>\n",
              "    <tr>\n",
              "      <th>count</th>\n",
              "      <td>1.479720e+05</td>\n",
              "      <td>147972.000000</td>\n",
              "    </tr>\n",
              "    <tr>\n",
              "      <th>mean</th>\n",
              "      <td>1.287779e+06</td>\n",
              "      <td>3.590071</td>\n",
              "    </tr>\n",
              "    <tr>\n",
              "      <th>std</th>\n",
              "      <td>4.324338e+04</td>\n",
              "      <td>55.365859</td>\n",
              "    </tr>\n",
              "    <tr>\n",
              "      <th>min</th>\n",
              "      <td>1.212681e+06</td>\n",
              "      <td>0.000000</td>\n",
              "    </tr>\n",
              "    <tr>\n",
              "      <th>25%</th>\n",
              "      <td>1.250438e+06</td>\n",
              "      <td>0.000000</td>\n",
              "    </tr>\n",
              "    <tr>\n",
              "      <th>50%</th>\n",
              "      <td>1.287844e+06</td>\n",
              "      <td>0.000000</td>\n",
              "    </tr>\n",
              "    <tr>\n",
              "      <th>75%</th>\n",
              "      <td>1.325191e+06</td>\n",
              "      <td>4.000000</td>\n",
              "    </tr>\n",
              "    <tr>\n",
              "      <th>max</th>\n",
              "      <td>1.362605e+06</td>\n",
              "      <td>9007.000000</td>\n",
              "    </tr>\n",
              "  </tbody>\n",
              "</table>\n",
              "</div>\n",
              "    <div class=\"colab-df-buttons\">\n",
              "\n",
              "  <div class=\"colab-df-container\">\n",
              "    <button class=\"colab-df-convert\" onclick=\"convertToInteractive('df-7bc3667b-4b6e-4bb2-9baa-1f0b7687fdc4')\"\n",
              "            title=\"Convert this dataframe to an interactive table.\"\n",
              "            style=\"display:none;\">\n",
              "\n",
              "  <svg xmlns=\"http://www.w3.org/2000/svg\" height=\"24px\" viewBox=\"0 -960 960 960\">\n",
              "    <path d=\"M120-120v-720h720v720H120Zm60-500h600v-160H180v160Zm220 220h160v-160H400v160Zm0 220h160v-160H400v160ZM180-400h160v-160H180v160Zm440 0h160v-160H620v160ZM180-180h160v-160H180v160Zm440 0h160v-160H620v160Z\"/>\n",
              "  </svg>\n",
              "    </button>\n",
              "\n",
              "  <style>\n",
              "    .colab-df-container {\n",
              "      display:flex;\n",
              "      gap: 12px;\n",
              "    }\n",
              "\n",
              "    .colab-df-convert {\n",
              "      background-color: #E8F0FE;\n",
              "      border: none;\n",
              "      border-radius: 50%;\n",
              "      cursor: pointer;\n",
              "      display: none;\n",
              "      fill: #1967D2;\n",
              "      height: 32px;\n",
              "      padding: 0 0 0 0;\n",
              "      width: 32px;\n",
              "    }\n",
              "\n",
              "    .colab-df-convert:hover {\n",
              "      background-color: #E2EBFA;\n",
              "      box-shadow: 0px 1px 2px rgba(60, 64, 67, 0.3), 0px 1px 3px 1px rgba(60, 64, 67, 0.15);\n",
              "      fill: #174EA6;\n",
              "    }\n",
              "\n",
              "    .colab-df-buttons div {\n",
              "      margin-bottom: 4px;\n",
              "    }\n",
              "\n",
              "    [theme=dark] .colab-df-convert {\n",
              "      background-color: #3B4455;\n",
              "      fill: #D2E3FC;\n",
              "    }\n",
              "\n",
              "    [theme=dark] .colab-df-convert:hover {\n",
              "      background-color: #434B5C;\n",
              "      box-shadow: 0px 1px 3px 1px rgba(0, 0, 0, 0.15);\n",
              "      filter: drop-shadow(0px 1px 2px rgba(0, 0, 0, 0.3));\n",
              "      fill: #FFFFFF;\n",
              "    }\n",
              "  </style>\n",
              "\n",
              "    <script>\n",
              "      const buttonEl =\n",
              "        document.querySelector('#df-7bc3667b-4b6e-4bb2-9baa-1f0b7687fdc4 button.colab-df-convert');\n",
              "      buttonEl.style.display =\n",
              "        google.colab.kernel.accessAllowed ? 'block' : 'none';\n",
              "\n",
              "      async function convertToInteractive(key) {\n",
              "        const element = document.querySelector('#df-7bc3667b-4b6e-4bb2-9baa-1f0b7687fdc4');\n",
              "        const dataTable =\n",
              "          await google.colab.kernel.invokeFunction('convertToInteractive',\n",
              "                                                    [key], {});\n",
              "        if (!dataTable) return;\n",
              "\n",
              "        const docLinkHtml = 'Like what you see? Visit the ' +\n",
              "          '<a target=\"_blank\" href=https://colab.research.google.com/notebooks/data_table.ipynb>data table notebook</a>'\n",
              "          + ' to learn more about interactive tables.';\n",
              "        element.innerHTML = '';\n",
              "        dataTable['output_type'] = 'display_data';\n",
              "        await google.colab.output.renderOutput(dataTable, element);\n",
              "        const docLink = document.createElement('div');\n",
              "        docLink.innerHTML = docLinkHtml;\n",
              "        element.appendChild(docLink);\n",
              "      }\n",
              "    </script>\n",
              "  </div>\n",
              "\n",
              "\n",
              "<div id=\"df-f170dfec-9646-4161-bc94-5af1f968ee29\">\n",
              "  <button class=\"colab-df-quickchart\" onclick=\"quickchart('df-f170dfec-9646-4161-bc94-5af1f968ee29')\"\n",
              "            title=\"Suggest charts\"\n",
              "            style=\"display:none;\">\n",
              "\n",
              "<svg xmlns=\"http://www.w3.org/2000/svg\" height=\"24px\"viewBox=\"0 0 24 24\"\n",
              "     width=\"24px\">\n",
              "    <g>\n",
              "        <path d=\"M19 3H5c-1.1 0-2 .9-2 2v14c0 1.1.9 2 2 2h14c1.1 0 2-.9 2-2V5c0-1.1-.9-2-2-2zM9 17H7v-7h2v7zm4 0h-2V7h2v10zm4 0h-2v-4h2v4z\"/>\n",
              "    </g>\n",
              "</svg>\n",
              "  </button>\n",
              "\n",
              "<style>\n",
              "  .colab-df-quickchart {\n",
              "      --bg-color: #E8F0FE;\n",
              "      --fill-color: #1967D2;\n",
              "      --hover-bg-color: #E2EBFA;\n",
              "      --hover-fill-color: #174EA6;\n",
              "      --disabled-fill-color: #AAA;\n",
              "      --disabled-bg-color: #DDD;\n",
              "  }\n",
              "\n",
              "  [theme=dark] .colab-df-quickchart {\n",
              "      --bg-color: #3B4455;\n",
              "      --fill-color: #D2E3FC;\n",
              "      --hover-bg-color: #434B5C;\n",
              "      --hover-fill-color: #FFFFFF;\n",
              "      --disabled-bg-color: #3B4455;\n",
              "      --disabled-fill-color: #666;\n",
              "  }\n",
              "\n",
              "  .colab-df-quickchart {\n",
              "    background-color: var(--bg-color);\n",
              "    border: none;\n",
              "    border-radius: 50%;\n",
              "    cursor: pointer;\n",
              "    display: none;\n",
              "    fill: var(--fill-color);\n",
              "    height: 32px;\n",
              "    padding: 0;\n",
              "    width: 32px;\n",
              "  }\n",
              "\n",
              "  .colab-df-quickchart:hover {\n",
              "    background-color: var(--hover-bg-color);\n",
              "    box-shadow: 0 1px 2px rgba(60, 64, 67, 0.3), 0 1px 3px 1px rgba(60, 64, 67, 0.15);\n",
              "    fill: var(--button-hover-fill-color);\n",
              "  }\n",
              "\n",
              "  .colab-df-quickchart-complete:disabled,\n",
              "  .colab-df-quickchart-complete:disabled:hover {\n",
              "    background-color: var(--disabled-bg-color);\n",
              "    fill: var(--disabled-fill-color);\n",
              "    box-shadow: none;\n",
              "  }\n",
              "\n",
              "  .colab-df-spinner {\n",
              "    border: 2px solid var(--fill-color);\n",
              "    border-color: transparent;\n",
              "    border-bottom-color: var(--fill-color);\n",
              "    animation:\n",
              "      spin 1s steps(1) infinite;\n",
              "  }\n",
              "\n",
              "  @keyframes spin {\n",
              "    0% {\n",
              "      border-color: transparent;\n",
              "      border-bottom-color: var(--fill-color);\n",
              "      border-left-color: var(--fill-color);\n",
              "    }\n",
              "    20% {\n",
              "      border-color: transparent;\n",
              "      border-left-color: var(--fill-color);\n",
              "      border-top-color: var(--fill-color);\n",
              "    }\n",
              "    30% {\n",
              "      border-color: transparent;\n",
              "      border-left-color: var(--fill-color);\n",
              "      border-top-color: var(--fill-color);\n",
              "      border-right-color: var(--fill-color);\n",
              "    }\n",
              "    40% {\n",
              "      border-color: transparent;\n",
              "      border-right-color: var(--fill-color);\n",
              "      border-top-color: var(--fill-color);\n",
              "    }\n",
              "    60% {\n",
              "      border-color: transparent;\n",
              "      border-right-color: var(--fill-color);\n",
              "    }\n",
              "    80% {\n",
              "      border-color: transparent;\n",
              "      border-right-color: var(--fill-color);\n",
              "      border-bottom-color: var(--fill-color);\n",
              "    }\n",
              "    90% {\n",
              "      border-color: transparent;\n",
              "      border-bottom-color: var(--fill-color);\n",
              "    }\n",
              "  }\n",
              "</style>\n",
              "\n",
              "  <script>\n",
              "    async function quickchart(key) {\n",
              "      const quickchartButtonEl =\n",
              "        document.querySelector('#' + key + ' button');\n",
              "      quickchartButtonEl.disabled = true;  // To prevent multiple clicks.\n",
              "      quickchartButtonEl.classList.add('colab-df-spinner');\n",
              "      try {\n",
              "        const charts = await google.colab.kernel.invokeFunction(\n",
              "            'suggestCharts', [key], {});\n",
              "      } catch (error) {\n",
              "        console.error('Error during call to suggestCharts:', error);\n",
              "      }\n",
              "      quickchartButtonEl.classList.remove('colab-df-spinner');\n",
              "      quickchartButtonEl.classList.add('colab-df-quickchart-complete');\n",
              "    }\n",
              "    (() => {\n",
              "      let quickchartButtonEl =\n",
              "        document.querySelector('#df-f170dfec-9646-4161-bc94-5af1f968ee29 button');\n",
              "      quickchartButtonEl.style.display =\n",
              "        google.colab.kernel.accessAllowed ? 'block' : 'none';\n",
              "    })();\n",
              "  </script>\n",
              "</div>\n",
              "\n",
              "    </div>\n",
              "  </div>\n"
            ],
            "application/vnd.google.colaboratory.intrinsic+json": {
              "type": "dataframe",
              "summary": "{\n  \"name\": \"df\",\n  \"rows\": 8,\n  \"fields\": [\n    {\n      \"column\": \"Busbreakdown_ID\",\n      \"properties\": {\n        \"dtype\": \"number\",\n        \"std\": 554377.8956547328,\n        \"min\": 43243.38216372064,\n        \"max\": 1362605.0,\n        \"num_unique_values\": 8,\n        \"samples\": [\n          1287778.9169707783,\n          1287843.5,\n          147972.0\n        ],\n        \"semantic_type\": \"\",\n        \"description\": \"\"\n      }\n    },\n    {\n      \"column\": \"Number_Of_Students_On_The_Bus\",\n      \"properties\": {\n        \"dtype\": \"number\",\n        \"std\": 51953.37186493656,\n        \"min\": 0.0,\n        \"max\": 147972.0,\n        \"num_unique_values\": 6,\n        \"samples\": [\n          147972.0,\n          3.590071094531398,\n          9007.0\n        ],\n        \"semantic_type\": \"\",\n        \"description\": \"\"\n      }\n    }\n  ]\n}"
            }
          },
          "metadata": {},
          "execution_count": 139
        }
      ],
      "source": [
        "df.describe()"
      ]
    },
    {
      "cell_type": "code",
      "execution_count": 140,
      "id": "tD3I4WyX3bmk",
      "metadata": {
        "colab": {
          "base_uri": "https://localhost:8080/",
          "height": 743
        },
        "id": "tD3I4WyX3bmk",
        "outputId": "4c8ed150-3383-468a-8b72-cb745a8aa19e"
      },
      "outputs": [
        {
          "output_type": "execute_result",
          "data": {
            "text/plain": [
              "School_Year                             0\n",
              "Busbreakdown_ID                         0\n",
              "Run_Type                               89\n",
              "Bus_No                                  0\n",
              "Route_Number                           88\n",
              "Reason                                102\n",
              "Schools_Serviced                        0\n",
              "Occurred_On                             0\n",
              "Created_On                              0\n",
              "Boro                                 6318\n",
              "Bus_Company_Name                        0\n",
              "How_Long_Delayed                    21630\n",
              "Number_Of_Students_On_The_Bus           0\n",
              "Has_Contractor_Notified_Schools         0\n",
              "Has_Contractor_Notified_Parents         0\n",
              "Have_You_Alerted_OPT                    0\n",
              "Informed_On                             0\n",
              "Incident_Number                    142340\n",
              "Last_Updated_On                         0\n",
              "Breakdown_or_Running_Late               0\n",
              "School_Age_or_PreK                      0\n",
              "dtype: int64"
            ],
            "text/html": [
              "<div>\n",
              "<style scoped>\n",
              "    .dataframe tbody tr th:only-of-type {\n",
              "        vertical-align: middle;\n",
              "    }\n",
              "\n",
              "    .dataframe tbody tr th {\n",
              "        vertical-align: top;\n",
              "    }\n",
              "\n",
              "    .dataframe thead th {\n",
              "        text-align: right;\n",
              "    }\n",
              "</style>\n",
              "<table border=\"1\" class=\"dataframe\">\n",
              "  <thead>\n",
              "    <tr style=\"text-align: right;\">\n",
              "      <th></th>\n",
              "      <th>0</th>\n",
              "    </tr>\n",
              "  </thead>\n",
              "  <tbody>\n",
              "    <tr>\n",
              "      <th>School_Year</th>\n",
              "      <td>0</td>\n",
              "    </tr>\n",
              "    <tr>\n",
              "      <th>Busbreakdown_ID</th>\n",
              "      <td>0</td>\n",
              "    </tr>\n",
              "    <tr>\n",
              "      <th>Run_Type</th>\n",
              "      <td>89</td>\n",
              "    </tr>\n",
              "    <tr>\n",
              "      <th>Bus_No</th>\n",
              "      <td>0</td>\n",
              "    </tr>\n",
              "    <tr>\n",
              "      <th>Route_Number</th>\n",
              "      <td>88</td>\n",
              "    </tr>\n",
              "    <tr>\n",
              "      <th>Reason</th>\n",
              "      <td>102</td>\n",
              "    </tr>\n",
              "    <tr>\n",
              "      <th>Schools_Serviced</th>\n",
              "      <td>0</td>\n",
              "    </tr>\n",
              "    <tr>\n",
              "      <th>Occurred_On</th>\n",
              "      <td>0</td>\n",
              "    </tr>\n",
              "    <tr>\n",
              "      <th>Created_On</th>\n",
              "      <td>0</td>\n",
              "    </tr>\n",
              "    <tr>\n",
              "      <th>Boro</th>\n",
              "      <td>6318</td>\n",
              "    </tr>\n",
              "    <tr>\n",
              "      <th>Bus_Company_Name</th>\n",
              "      <td>0</td>\n",
              "    </tr>\n",
              "    <tr>\n",
              "      <th>How_Long_Delayed</th>\n",
              "      <td>21630</td>\n",
              "    </tr>\n",
              "    <tr>\n",
              "      <th>Number_Of_Students_On_The_Bus</th>\n",
              "      <td>0</td>\n",
              "    </tr>\n",
              "    <tr>\n",
              "      <th>Has_Contractor_Notified_Schools</th>\n",
              "      <td>0</td>\n",
              "    </tr>\n",
              "    <tr>\n",
              "      <th>Has_Contractor_Notified_Parents</th>\n",
              "      <td>0</td>\n",
              "    </tr>\n",
              "    <tr>\n",
              "      <th>Have_You_Alerted_OPT</th>\n",
              "      <td>0</td>\n",
              "    </tr>\n",
              "    <tr>\n",
              "      <th>Informed_On</th>\n",
              "      <td>0</td>\n",
              "    </tr>\n",
              "    <tr>\n",
              "      <th>Incident_Number</th>\n",
              "      <td>142340</td>\n",
              "    </tr>\n",
              "    <tr>\n",
              "      <th>Last_Updated_On</th>\n",
              "      <td>0</td>\n",
              "    </tr>\n",
              "    <tr>\n",
              "      <th>Breakdown_or_Running_Late</th>\n",
              "      <td>0</td>\n",
              "    </tr>\n",
              "    <tr>\n",
              "      <th>School_Age_or_PreK</th>\n",
              "      <td>0</td>\n",
              "    </tr>\n",
              "  </tbody>\n",
              "</table>\n",
              "</div><br><label><b>dtype:</b> int64</label>"
            ]
          },
          "metadata": {},
          "execution_count": 140
        }
      ],
      "source": [
        "df.isnull().sum()"
      ]
    },
    {
      "cell_type": "code",
      "execution_count": 141,
      "id": "Ruwv8o6s3bd5",
      "metadata": {
        "colab": {
          "base_uri": "https://localhost:8080/",
          "height": 490
        },
        "id": "Ruwv8o6s3bd5",
        "outputId": "fe6bc507-20c7-45c2-ea09-046bffb848ca"
      },
      "outputs": [
        {
          "output_type": "execute_result",
          "data": {
            "text/plain": [
              "How_Long_Delayed\n",
              "20 MINS       5662\n",
              "30 MINS       4542\n",
              "30 minutes    3650\n",
              "15 mins       3522\n",
              "30MINS        3199\n",
              "              ... \n",
              "45 MON           1\n",
              "18 mins          1\n",
              "146              1\n",
              "1HOUR15MIN       1\n",
              "45 MINIUTE       1\n",
              "Name: count, Length: 1863, dtype: int64"
            ],
            "text/html": [
              "<div>\n",
              "<style scoped>\n",
              "    .dataframe tbody tr th:only-of-type {\n",
              "        vertical-align: middle;\n",
              "    }\n",
              "\n",
              "    .dataframe tbody tr th {\n",
              "        vertical-align: top;\n",
              "    }\n",
              "\n",
              "    .dataframe thead th {\n",
              "        text-align: right;\n",
              "    }\n",
              "</style>\n",
              "<table border=\"1\" class=\"dataframe\">\n",
              "  <thead>\n",
              "    <tr style=\"text-align: right;\">\n",
              "      <th></th>\n",
              "      <th>count</th>\n",
              "    </tr>\n",
              "    <tr>\n",
              "      <th>How_Long_Delayed</th>\n",
              "      <th></th>\n",
              "    </tr>\n",
              "  </thead>\n",
              "  <tbody>\n",
              "    <tr>\n",
              "      <th>20 MINS</th>\n",
              "      <td>5662</td>\n",
              "    </tr>\n",
              "    <tr>\n",
              "      <th>30 MINS</th>\n",
              "      <td>4542</td>\n",
              "    </tr>\n",
              "    <tr>\n",
              "      <th>30 minutes</th>\n",
              "      <td>3650</td>\n",
              "    </tr>\n",
              "    <tr>\n",
              "      <th>15 mins</th>\n",
              "      <td>3522</td>\n",
              "    </tr>\n",
              "    <tr>\n",
              "      <th>30MINS</th>\n",
              "      <td>3199</td>\n",
              "    </tr>\n",
              "    <tr>\n",
              "      <th>...</th>\n",
              "      <td>...</td>\n",
              "    </tr>\n",
              "    <tr>\n",
              "      <th>45 MON</th>\n",
              "      <td>1</td>\n",
              "    </tr>\n",
              "    <tr>\n",
              "      <th>18 mins</th>\n",
              "      <td>1</td>\n",
              "    </tr>\n",
              "    <tr>\n",
              "      <th>146</th>\n",
              "      <td>1</td>\n",
              "    </tr>\n",
              "    <tr>\n",
              "      <th>1HOUR15MIN</th>\n",
              "      <td>1</td>\n",
              "    </tr>\n",
              "    <tr>\n",
              "      <th>45 MINIUTE</th>\n",
              "      <td>1</td>\n",
              "    </tr>\n",
              "  </tbody>\n",
              "</table>\n",
              "<p>1863 rows × 1 columns</p>\n",
              "</div><br><label><b>dtype:</b> int64</label>"
            ]
          },
          "metadata": {},
          "execution_count": 141
        }
      ],
      "source": [
        "df['How_Long_Delayed'].value_counts()"
      ]
    },
    {
      "cell_type": "markdown",
      "id": "U75B8VyJ57mb",
      "metadata": {
        "id": "U75B8VyJ57mb"
      },
      "source": [
        "Distribution of features\n",
        "\n",
        "Categorical feature analysis\n",
        "\n",
        "Correlation matrix\n",
        "\n",
        "Outlier detection"
      ]
    },
    {
      "cell_type": "code",
      "execution_count": 142,
      "id": "lq5j4kll3bU7",
      "metadata": {
        "colab": {
          "base_uri": "https://localhost:8080/",
          "height": 509
        },
        "id": "lq5j4kll3bU7",
        "outputId": "c69f97a0-958d-4e5b-8398-d04f31ed5db9"
      },
      "outputs": [
        {
          "output_type": "display_data",
          "data": {
            "text/plain": [
              "<Figure size 711.361x500 with 6 Axes>"
            ],
            "image/png": "[encoded data removed]"
          },
          "metadata": {}
        }
      ],
      "source": [
        "sns.pairplot(df, hue='Breakdown_or_Running_Late')\n",
        "plt.show()"
      ]
    },
    {
      "cell_type": "code",
      "execution_count": 143,
      "id": "9Q1rFIuZ643E",
      "metadata": {
        "colab": {
          "base_uri": "https://localhost:8080/",
          "height": 450
        },
        "id": "9Q1rFIuZ643E",
        "outputId": "33882d8b-2ec0-4376-c22f-8f0dd7f40b2b"
      },
      "outputs": [
        {
          "output_type": "display_data",
          "data": {
            "text/plain": [
              "<Figure size 640x480 with 1 Axes>"
            ],
            "image/png": "[encoded data removed]"
          },
          "metadata": {}
        }
      ],
      "source": [
        "sns.countplot(x='Breakdown_or_Running_Late', data=df)\n",
        "plt.show()"
      ]
    },
    {
      "cell_type": "code",
      "execution_count": 144,
      "id": "fqF5xYpf64z-",
      "metadata": {
        "colab": {
          "base_uri": "https://localhost:8080/",
          "height": 439
        },
        "id": "fqF5xYpf64z-",
        "outputId": "7883ba4f-57cf-4015-8e29-54c04549e0ca"
      },
      "outputs": [
        {
          "output_type": "display_data",
          "data": {
            "text/plain": [
              "<Figure size 640x480 with 2 Axes>"
            ],
            "image/png": "[encoded data removed]"
          },
          "metadata": {}
        }
      ],
      "source": [
        "num_cols = df.select_dtypes(include=np.number).columns\n",
        "\n",
        "corr_matrix = df[num_cols].corr()\n",
        "sns.heatmap(corr_matrix, annot=True, cmap='coolwarm')\n",
        "plt.show()"
      ]
    },
    {
      "cell_type": "code",
      "execution_count": 145,
      "id": "ZPH51gg_64xM",
      "metadata": {
        "colab": {
          "base_uri": "https://localhost:8080/",
          "height": 450
        },
        "id": "ZPH51gg_64xM",
        "outputId": "05f19dbd-1fdb-473b-cb13-a83774548f17"
      },
      "outputs": [
        {
          "output_type": "display_data",
          "data": {
            "text/plain": [
              "<Figure size 640x480 with 1 Axes>"
            ],
            "image/png": "[encoded data removed]"
          },
          "metadata": {}
        }
      ],
      "source": [
        "sns.boxplot(x='Breakdown_or_Running_Late', y='Number_Of_Students_On_The_Bus', data=df)\n",
        "plt.show()"
      ]
    },
    {
      "cell_type": "code",
      "execution_count": 146,
      "id": "gUO6GBW6_FSg",
      "metadata": {
        "colab": {
          "base_uri": "https://localhost:8080/"
        },
        "id": "gUO6GBW6_FSg",
        "outputId": "4dc4570d-238d-42a8-ad9f-6183d28c69cb"
      },
      "outputs": [
        {
          "output_type": "execute_result",
          "data": {
            "text/plain": [
              "Index(['Busbreakdown_ID', 'Number_Of_Students_On_The_Bus'], dtype='object')"
            ]
          },
          "metadata": {},
          "execution_count": 146
        }
      ],
      "source": [
        "num_cols"
      ]
    },
    {
      "cell_type": "markdown",
      "id": "1a559e40",
      "metadata": {
        "id": "1a559e40"
      },
      "source": [
        "## Data Preprocessing\n",
        "This could include:\n",
        "\n",
        "* **Handle Missing Values**\n",
        "    * Impute missing values or drop them.\n",
        "\n",
        "* **Encode Categorical Variables**\n",
        "    * One-hot encoding\n",
        "    * Label encoding\n",
        "\n",
        "* **Scale and Normalize Data**\n",
        "    * Standardization (Z-score)\n",
        "    * Min-Max scaling\n",
        "\n",
        "* **Feature Engineering**\n",
        "    * Create new features\n",
        "    * Feature selection\n",
        "\n",
        "* **Handle Imbalanced Data**\n",
        "    * Oversampling\n",
        "    * Undersampling\n",
        "\n",
        "* **Handle Outliers**\n",
        "    * Remove outliers\n",
        "    * Transform outliers\n",
        "\n",
        "* **Remove Duplicates**\n",
        "    * Remove redundant or duplicate data\n",
        "\n",
        "\n",
        "And add more as needed!\n",
        "\n",
        "Please treat these as suggestions. Feel free to use your judgment for the rest."
      ]
    },
    {
      "cell_type": "code",
      "execution_count": 147,
      "id": "9rdjXmA63bhG",
      "metadata": {
        "id": "9rdjXmA63bhG"
      },
      "outputs": [],
      "source": [
        "df.drop('Incident_Number', axis=1, inplace=True)"
      ]
    },
    {
      "cell_type": "code",
      "execution_count": 148,
      "id": "e6867a7c",
      "metadata": {
        "id": "e6867a7c"
      },
      "outputs": [],
      "source": [
        "df.dropna(inplace=True)"
      ]
    },
    {
      "cell_type": "code",
      "source": [
        "for col in df.select_dtypes(include=['object']).columns:\n",
        "    df[col] = df[col].astype('category')"
      ],
      "metadata": {
        "id": "GjInzeFuNfsN"
      },
      "id": "GjInzeFuNfsN",
      "execution_count": 149,
      "outputs": []
    },
    {
      "cell_type": "code",
      "source": [
        "df.info()"
      ],
      "metadata": {
        "colab": {
          "base_uri": "https://localhost:8080/"
        },
        "id": "m1pCLVjnOJfa",
        "outputId": "1907e88a-06dc-4a01-843b-e20f35c975ee"
      },
      "id": "m1pCLVjnOJfa",
      "execution_count": 150,
      "outputs": [
        {
          "output_type": "stream",
          "name": "stdout",
          "text": [
            "<class 'pandas.core.frame.DataFrame'>\n",
            "Index: 120553 entries, 0 to 147971\n",
            "Data columns (total 20 columns):\n",
            " #   Column                           Non-Null Count   Dtype   \n",
            "---  ------                           --------------   -----   \n",
            " 0   School_Year                      120553 non-null  category\n",
            " 1   Busbreakdown_ID                  120553 non-null  int64   \n",
            " 2   Run_Type                         120553 non-null  category\n",
            " 3   Bus_No                           120553 non-null  category\n",
            " 4   Route_Number                     120553 non-null  category\n",
            " 5   Reason                           120553 non-null  category\n",
            " 6   Schools_Serviced                 120553 non-null  category\n",
            " 7   Occurred_On                      120553 non-null  category\n",
            " 8   Created_On                       120553 non-null  category\n",
            " 9   Boro                             120553 non-null  category\n",
            " 10  Bus_Company_Name                 120553 non-null  category\n",
            " 11  How_Long_Delayed                 120553 non-null  category\n",
            " 12  Number_Of_Students_On_The_Bus    120553 non-null  int64   \n",
            " 13  Has_Contractor_Notified_Schools  120553 non-null  category\n",
            " 14  Has_Contractor_Notified_Parents  120553 non-null  category\n",
            " 15  Have_You_Alerted_OPT             120553 non-null  category\n",
            " 16  Informed_On                      120553 non-null  category\n",
            " 17  Last_Updated_On                  120553 non-null  category\n",
            " 18  Breakdown_or_Running_Late        120553 non-null  category\n",
            " 19  School_Age_or_PreK               120553 non-null  category\n",
            "dtypes: category(18), int64(2)\n",
            "memory usage: 20.0 MB\n"
          ]
        }
      ]
    },
    {
      "cell_type": "code",
      "execution_count": 151,
      "id": "i6l9WZhI77b_",
      "metadata": {
        "id": "i6l9WZhI77b_",
        "colab": {
          "base_uri": "https://localhost:8080/"
        },
        "outputId": "8390009c-954d-44b1-a464-b5abf8b68a84"
      },
      "outputs": [
        {
          "output_type": "stream",
          "name": "stdout",
          "text": [
            "   School_Year  Busbreakdown_ID  Run_Type  Bus_No  Route_Number  Reason  \\\n",
            "0            0          1224901         3    6920            73       6   \n",
            "1            0          1225098         3    7507            73       3   \n",
            "2            0          1215800         3    4314           196       3   \n",
            "3            0          1215511         3    4219           196       6   \n",
            "4            0          1215828         3    4225           196       6   \n",
            "\n",
            "   Schools_Serviced  Occurred_On  Created_On  Boro  Bus_Company_Name  \\\n",
            "0              4452        48550       52137     1                26   \n",
            "1              4515        48811       52408     1                26   \n",
            "2              4420        41505       44402     1                26   \n",
            "3              4419        41394       44267     1                26   \n",
            "4              4587        41508       44409     1                26   \n",
            "\n",
            "   How_Long_Delayed  Number_Of_Students_On_The_Bus  \\\n",
            "0               187                              5   \n",
            "1               820                              3   \n",
            "2               327                             12   \n",
            "3               106                             11   \n",
            "4               187                             12   \n",
            "\n",
            "   Has_Contractor_Notified_Schools  Has_Contractor_Notified_Parents  \\\n",
            "0                                1                                1   \n",
            "1                                1                                1   \n",
            "2                                1                                1   \n",
            "3                                1                                1   \n",
            "4                                1                                1   \n",
            "\n",
            "   Have_You_Alerted_OPT  Informed_On  Last_Updated_On  \\\n",
            "0                     0        52137            95310   \n",
            "1                     0        52408            95804   \n",
            "2                     1        44402            80401   \n",
            "3                     1        44267            80191   \n",
            "4                     0        44409            80460   \n",
            "\n",
            "   Breakdown_or_Running_Late  School_Age_or_PreK  \n",
            "0                          1                   0  \n",
            "1                          1                   0  \n",
            "2                          1                   0  \n",
            "3                          1                   0  \n",
            "4                          1                   0  \n"
          ]
        }
      ],
      "source": [
        "#Encode Categorical Variables\n",
        "from sklearn.preprocessing import LabelEncoder\n",
        "le = LabelEncoder()\n",
        "\n",
        "\n",
        "#Label encoding\n",
        "\n",
        "\n",
        "for col in df.select_dtypes(include=['category']).columns:\n",
        "    df[col] = le.fit_transform(df[col])\n",
        "\n",
        "print(df.head())\n",
        "\n"
      ]
    },
    {
      "cell_type": "code",
      "execution_count": 152,
      "id": "iZvsz8Bq77UF",
      "metadata": {
        "id": "iZvsz8Bq77UF"
      },
      "outputs": [],
      "source": [
        "#Handle Outliers\n",
        "from scipy import stats\n",
        "z_scores = np.abs(stats.zscore(df[num_cols]))\n",
        "df = df[(z_scores < 3).all(axis=1)]"
      ]
    },
    {
      "cell_type": "code",
      "execution_count": 153,
      "id": "tVTjCPeo77RO",
      "metadata": {
        "id": "tVTjCPeo77RO",
        "colab": {
          "base_uri": "https://localhost:8080/"
        },
        "outputId": "80d33817-1af6-4a3c-b63a-ce12ddc0d9c5"
      },
      "outputs": [
        {
          "output_type": "execute_result",
          "data": {
            "text/plain": [
              "0"
            ]
          },
          "metadata": {},
          "execution_count": 153
        }
      ],
      "source": [
        "df.duplicated().sum()"
      ]
    },
    {
      "cell_type": "markdown",
      "id": "bc887660",
      "metadata": {
        "id": "bc887660"
      },
      "source": [
        "## Split the Dataset\n",
        "Next, split the dataset into training, validation, and testing sets."
      ]
    },
    {
      "cell_type": "code",
      "source": [
        "from sklearn.model_selection import train_test_split\n",
        "from sklearn.preprocessing import StandardScaler\n",
        "\n",
        "\n",
        "X = df.drop('Breakdown_or_Running_Late', axis=1)\n",
        "y = df['Breakdown_or_Running_Late']\n",
        "\n",
        "smote = SMOTE(random_state=42, k_neighbors=3)\n",
        "X_resampled, y_resampled = smote.fit_resample(X, y)\n",
        "\n",
        "X_train_val, X_test, y_train_val, y_test = train_test_split(X_resampled, y_resampled, test_size=0.2, random_state=42)\n",
        "X_train, X_val, y_train, y_val = train_test_split(X_train_val, y_train_val, test_size=0.2, random_state=42)\n",
        "\n",
        "\n",
        "\n",
        "scaler = StandardScaler()\n",
        "X_train = scaler.fit_transform(X_train)\n",
        "X_val = scaler.transform(X_val)\n",
        "X_test = scaler.transform(X_test)\n"
      ],
      "metadata": {
        "id": "Q6hAgbFodqWT"
      },
      "id": "Q6hAgbFodqWT",
      "execution_count": 154,
      "outputs": []
    },
    {
      "cell_type": "markdown",
      "id": "7119b7d7",
      "metadata": {
        "id": "7119b7d7"
      },
      "source": [
        "## Building the ANN Model\n",
        "In this section, define the architecture of the ANN by specifying the number of layers, neurons, and activation functions."
      ]
    },
    {
      "cell_type": "code",
      "execution_count": 156,
      "id": "8532b3b9",
      "metadata": {
        "id": "8532b3b9",
        "colab": {
          "base_uri": "https://localhost:8080/"
        },
        "outputId": "65544cab-9c75-4e1a-e4eb-a4d6c6681838"
      },
      "outputs": [
        {
          "output_type": "stream",
          "name": "stderr",
          "text": [
            "/usr/local/lib/python3.10/dist-packages/keras/src/layers/core/dense.py:87: UserWarning: Do not pass an `input_shape`/`input_dim` argument to a layer. When using Sequential models, prefer using an `Input(shape)` object as the first layer in the model instead.\n",
            "  super().__init__(activity_regularizer=activity_regularizer, **kwargs)\n"
          ]
        }
      ],
      "source": [
        "from tensorflow.keras.models import Sequential\n",
        "from tensorflow.keras.layers import Dense, Dropout\n",
        "\n",
        "model = Sequential([\n",
        "    Dense(64, activation='relu', input_shape=(X_train.shape[1],)),\n",
        "    Dropout(0.2),\n",
        "    Dense(32, activation='relu'),\n",
        "    Dense(1, activation='sigmoid')\n",
        "])\n",
        "\n"
      ]
    },
    {
      "cell_type": "markdown",
      "id": "ac5e52e1",
      "metadata": {
        "id": "ac5e52e1"
      },
      "source": [
        "## Compile the Model\n",
        "Compile the ANN model by defining the optimizer, loss function, and evaluation metrics."
      ]
    },
    {
      "cell_type": "code",
      "execution_count": 157,
      "id": "ab363be3",
      "metadata": {
        "id": "ab363be3",
        "colab": {
          "base_uri": "https://localhost:8080/",
          "height": 265
        },
        "outputId": "5e33561e-38b7-4e5a-e327-ae50ecde28de"
      },
      "outputs": [
        {
          "output_type": "display_data",
          "data": {
            "text/plain": [
              "\u001b[1mModel: \"sequential_4\"\u001b[0m\n"
            ],
            "text/html": [
              "<pre style=\"white-space:pre;overflow-x:auto;line-height:normal;font-family:Menlo,'DejaVu Sans Mono',consolas,'Courier New',monospace\"><span style=\"font-weight: bold\">Model: \"sequential_4\"</span>\n",
              "</pre>\n"
            ]
          },
          "metadata": {}
        },
        {
          "output_type": "display_data",
          "data": {
            "text/plain": [
              "┏━━━━━━━━━━━━━━━━━━━━━━━━━━━━━━━━━━━━━━┳━━━━━━━━━━━━━━━━━━━━━━━━━━━━━┳━━━━━━━━━━━━━━━━━┓\n",
              "┃\u001b[1m \u001b[0m\u001b[1mLayer (type)                        \u001b[0m\u001b[1m \u001b[0m┃\u001b[1m \u001b[0m\u001b[1mOutput Shape               \u001b[0m\u001b[1m \u001b[0m┃\u001b[1m \u001b[0m\u001b[1m        Param #\u001b[0m\u001b[1m \u001b[0m┃\n",
              "┡━━━━━━━━━━━━━━━━━━━━━━━━━━━━━━━━━━━━━━╇━━━━━━━━━━━━━━━━━━━━━━━━━━━━━╇━━━━━━━━━━━━━━━━━┩\n",
              "│ dense_12 (\u001b[38;5;33mDense\u001b[0m)                     │ (\u001b[38;5;45mNone\u001b[0m, \u001b[38;5;34m64\u001b[0m)                  │           \u001b[38;5;34m1,280\u001b[0m │\n",
              "├──────────────────────────────────────┼─────────────────────────────┼─────────────────┤\n",
              "│ dropout_4 (\u001b[38;5;33mDropout\u001b[0m)                  │ (\u001b[38;5;45mNone\u001b[0m, \u001b[38;5;34m64\u001b[0m)                  │               \u001b[38;5;34m0\u001b[0m │\n",
              "├──────────────────────────────────────┼─────────────────────────────┼─────────────────┤\n",
              "│ dense_13 (\u001b[38;5;33mDense\u001b[0m)                     │ (\u001b[38;5;45mNone\u001b[0m, \u001b[38;5;34m32\u001b[0m)                  │           \u001b[38;5;34m2,080\u001b[0m │\n",
              "├──────────────────────────────────────┼─────────────────────────────┼─────────────────┤\n",
              "│ dense_14 (\u001b[38;5;33mDense\u001b[0m)                     │ (\u001b[38;5;45mNone\u001b[0m, \u001b[38;5;34m1\u001b[0m)                   │              \u001b[38;5;34m33\u001b[0m │\n",
              "└──────────────────────────────────────┴─────────────────────────────┴─────────────────┘\n"
            ],
            "text/html": [
              "<pre style=\"white-space:pre;overflow-x:auto;line-height:normal;font-family:Menlo,'DejaVu Sans Mono',consolas,'Courier New',monospace\">┏━━━━━━━━━━━━━━━━━━━━━━━━━━━━━━━━━━━━━━┳━━━━━━━━━━━━━━━━━━━━━━━━━━━━━┳━━━━━━━━━━━━━━━━━┓\n",
              "┃<span style=\"font-weight: bold\"> Layer (type)                         </span>┃<span style=\"font-weight: bold\"> Output Shape                </span>┃<span style=\"font-weight: bold\">         Param # </span>┃\n",
              "┡━━━━━━━━━━━━━━━━━━━━━━━━━━━━━━━━━━━━━━╇━━━━━━━━━━━━━━━━━━━━━━━━━━━━━╇━━━━━━━━━━━━━━━━━┩\n",
              "│ dense_12 (<span style=\"color: #0087ff; text-decoration-color: #0087ff\">Dense</span>)                     │ (<span style=\"color: #00d7ff; text-decoration-color: #00d7ff\">None</span>, <span style=\"color: #00af00; text-decoration-color: #00af00\">64</span>)                  │           <span style=\"color: #00af00; text-decoration-color: #00af00\">1,280</span> │\n",
              "├──────────────────────────────────────┼─────────────────────────────┼─────────────────┤\n",
              "│ dropout_4 (<span style=\"color: #0087ff; text-decoration-color: #0087ff\">Dropout</span>)                  │ (<span style=\"color: #00d7ff; text-decoration-color: #00d7ff\">None</span>, <span style=\"color: #00af00; text-decoration-color: #00af00\">64</span>)                  │               <span style=\"color: #00af00; text-decoration-color: #00af00\">0</span> │\n",
              "├──────────────────────────────────────┼─────────────────────────────┼─────────────────┤\n",
              "│ dense_13 (<span style=\"color: #0087ff; text-decoration-color: #0087ff\">Dense</span>)                     │ (<span style=\"color: #00d7ff; text-decoration-color: #00d7ff\">None</span>, <span style=\"color: #00af00; text-decoration-color: #00af00\">32</span>)                  │           <span style=\"color: #00af00; text-decoration-color: #00af00\">2,080</span> │\n",
              "├──────────────────────────────────────┼─────────────────────────────┼─────────────────┤\n",
              "│ dense_14 (<span style=\"color: #0087ff; text-decoration-color: #0087ff\">Dense</span>)                     │ (<span style=\"color: #00d7ff; text-decoration-color: #00d7ff\">None</span>, <span style=\"color: #00af00; text-decoration-color: #00af00\">1</span>)                   │              <span style=\"color: #00af00; text-decoration-color: #00af00\">33</span> │\n",
              "└──────────────────────────────────────┴─────────────────────────────┴─────────────────┘\n",
              "</pre>\n"
            ]
          },
          "metadata": {}
        },
        {
          "output_type": "display_data",
          "data": {
            "text/plain": [
              "\u001b[1m Total params: \u001b[0m\u001b[38;5;34m3,393\u001b[0m (13.25 KB)\n"
            ],
            "text/html": [
              "<pre style=\"white-space:pre;overflow-x:auto;line-height:normal;font-family:Menlo,'DejaVu Sans Mono',consolas,'Courier New',monospace\"><span style=\"font-weight: bold\"> Total params: </span><span style=\"color: #00af00; text-decoration-color: #00af00\">3,393</span> (13.25 KB)\n",
              "</pre>\n"
            ]
          },
          "metadata": {}
        },
        {
          "output_type": "display_data",
          "data": {
            "text/plain": [
              "\u001b[1m Trainable params: \u001b[0m\u001b[38;5;34m3,393\u001b[0m (13.25 KB)\n"
            ],
            "text/html": [
              "<pre style=\"white-space:pre;overflow-x:auto;line-height:normal;font-family:Menlo,'DejaVu Sans Mono',consolas,'Courier New',monospace\"><span style=\"font-weight: bold\"> Trainable params: </span><span style=\"color: #00af00; text-decoration-color: #00af00\">3,393</span> (13.25 KB)\n",
              "</pre>\n"
            ]
          },
          "metadata": {}
        },
        {
          "output_type": "display_data",
          "data": {
            "text/plain": [
              "\u001b[1m Non-trainable params: \u001b[0m\u001b[38;5;34m0\u001b[0m (0.00 B)\n"
            ],
            "text/html": [
              "<pre style=\"white-space:pre;overflow-x:auto;line-height:normal;font-family:Menlo,'DejaVu Sans Mono',consolas,'Courier New',monospace\"><span style=\"font-weight: bold\"> Non-trainable params: </span><span style=\"color: #00af00; text-decoration-color: #00af00\">0</span> (0.00 B)\n",
              "</pre>\n"
            ]
          },
          "metadata": {}
        }
      ],
      "source": [
        "model.compile(optimizer='adam', loss='binary_crossentropy', metrics=['accuracy'])\n",
        "model.summary()"
      ]
    },
    {
      "cell_type": "code",
      "execution_count": 158,
      "id": "YCn8I1UGDi16",
      "metadata": {
        "id": "YCn8I1UGDi16",
        "colab": {
          "base_uri": "https://localhost:8080/",
          "height": 265
        },
        "outputId": "c4de8852-cce4-49f5-d81b-ab40d5a4662c"
      },
      "outputs": [
        {
          "output_type": "display_data",
          "data": {
            "text/plain": [
              "\u001b[1mModel: \"sequential_4\"\u001b[0m\n"
            ],
            "text/html": [
              "<pre style=\"white-space:pre;overflow-x:auto;line-height:normal;font-family:Menlo,'DejaVu Sans Mono',consolas,'Courier New',monospace\"><span style=\"font-weight: bold\">Model: \"sequential_4\"</span>\n",
              "</pre>\n"
            ]
          },
          "metadata": {}
        },
        {
          "output_type": "display_data",
          "data": {
            "text/plain": [
              "┏━━━━━━━━━━━━━━━━━━━━━━━━━━━━━━━━━━━━━━┳━━━━━━━━━━━━━━━━━━━━━━━━━━━━━┳━━━━━━━━━━━━━━━━━┓\n",
              "┃\u001b[1m \u001b[0m\u001b[1mLayer (type)                        \u001b[0m\u001b[1m \u001b[0m┃\u001b[1m \u001b[0m\u001b[1mOutput Shape               \u001b[0m\u001b[1m \u001b[0m┃\u001b[1m \u001b[0m\u001b[1m        Param #\u001b[0m\u001b[1m \u001b[0m┃\n",
              "┡━━━━━━━━━━━━━━━━━━━━━━━━━━━━━━━━━━━━━━╇━━━━━━━━━━━━━━━━━━━━━━━━━━━━━╇━━━━━━━━━━━━━━━━━┩\n",
              "│ dense_12 (\u001b[38;5;33mDense\u001b[0m)                     │ (\u001b[38;5;45mNone\u001b[0m, \u001b[38;5;34m64\u001b[0m)                  │           \u001b[38;5;34m1,280\u001b[0m │\n",
              "├──────────────────────────────────────┼─────────────────────────────┼─────────────────┤\n",
              "│ dropout_4 (\u001b[38;5;33mDropout\u001b[0m)                  │ (\u001b[38;5;45mNone\u001b[0m, \u001b[38;5;34m64\u001b[0m)                  │               \u001b[38;5;34m0\u001b[0m │\n",
              "├──────────────────────────────────────┼─────────────────────────────┼─────────────────┤\n",
              "│ dense_13 (\u001b[38;5;33mDense\u001b[0m)                     │ (\u001b[38;5;45mNone\u001b[0m, \u001b[38;5;34m32\u001b[0m)                  │           \u001b[38;5;34m2,080\u001b[0m │\n",
              "├──────────────────────────────────────┼─────────────────────────────┼─────────────────┤\n",
              "│ dense_14 (\u001b[38;5;33mDense\u001b[0m)                     │ (\u001b[38;5;45mNone\u001b[0m, \u001b[38;5;34m1\u001b[0m)                   │              \u001b[38;5;34m33\u001b[0m │\n",
              "└──────────────────────────────────────┴─────────────────────────────┴─────────────────┘\n"
            ],
            "text/html": [
              "<pre style=\"white-space:pre;overflow-x:auto;line-height:normal;font-family:Menlo,'DejaVu Sans Mono',consolas,'Courier New',monospace\">┏━━━━━━━━━━━━━━━━━━━━━━━━━━━━━━━━━━━━━━┳━━━━━━━━━━━━━━━━━━━━━━━━━━━━━┳━━━━━━━━━━━━━━━━━┓\n",
              "┃<span style=\"font-weight: bold\"> Layer (type)                         </span>┃<span style=\"font-weight: bold\"> Output Shape                </span>┃<span style=\"font-weight: bold\">         Param # </span>┃\n",
              "┡━━━━━━━━━━━━━━━━━━━━━━━━━━━━━━━━━━━━━━╇━━━━━━━━━━━━━━━━━━━━━━━━━━━━━╇━━━━━━━━━━━━━━━━━┩\n",
              "│ dense_12 (<span style=\"color: #0087ff; text-decoration-color: #0087ff\">Dense</span>)                     │ (<span style=\"color: #00d7ff; text-decoration-color: #00d7ff\">None</span>, <span style=\"color: #00af00; text-decoration-color: #00af00\">64</span>)                  │           <span style=\"color: #00af00; text-decoration-color: #00af00\">1,280</span> │\n",
              "├──────────────────────────────────────┼─────────────────────────────┼─────────────────┤\n",
              "│ dropout_4 (<span style=\"color: #0087ff; text-decoration-color: #0087ff\">Dropout</span>)                  │ (<span style=\"color: #00d7ff; text-decoration-color: #00d7ff\">None</span>, <span style=\"color: #00af00; text-decoration-color: #00af00\">64</span>)                  │               <span style=\"color: #00af00; text-decoration-color: #00af00\">0</span> │\n",
              "├──────────────────────────────────────┼─────────────────────────────┼─────────────────┤\n",
              "│ dense_13 (<span style=\"color: #0087ff; text-decoration-color: #0087ff\">Dense</span>)                     │ (<span style=\"color: #00d7ff; text-decoration-color: #00d7ff\">None</span>, <span style=\"color: #00af00; text-decoration-color: #00af00\">32</span>)                  │           <span style=\"color: #00af00; text-decoration-color: #00af00\">2,080</span> │\n",
              "├──────────────────────────────────────┼─────────────────────────────┼─────────────────┤\n",
              "│ dense_14 (<span style=\"color: #0087ff; text-decoration-color: #0087ff\">Dense</span>)                     │ (<span style=\"color: #00d7ff; text-decoration-color: #00d7ff\">None</span>, <span style=\"color: #00af00; text-decoration-color: #00af00\">1</span>)                   │              <span style=\"color: #00af00; text-decoration-color: #00af00\">33</span> │\n",
              "└──────────────────────────────────────┴─────────────────────────────┴─────────────────┘\n",
              "</pre>\n"
            ]
          },
          "metadata": {}
        },
        {
          "output_type": "display_data",
          "data": {
            "text/plain": [
              "\u001b[1m Total params: \u001b[0m\u001b[38;5;34m3,393\u001b[0m (13.25 KB)\n"
            ],
            "text/html": [
              "<pre style=\"white-space:pre;overflow-x:auto;line-height:normal;font-family:Menlo,'DejaVu Sans Mono',consolas,'Courier New',monospace\"><span style=\"font-weight: bold\"> Total params: </span><span style=\"color: #00af00; text-decoration-color: #00af00\">3,393</span> (13.25 KB)\n",
              "</pre>\n"
            ]
          },
          "metadata": {}
        },
        {
          "output_type": "display_data",
          "data": {
            "text/plain": [
              "\u001b[1m Trainable params: \u001b[0m\u001b[38;5;34m3,393\u001b[0m (13.25 KB)\n"
            ],
            "text/html": [
              "<pre style=\"white-space:pre;overflow-x:auto;line-height:normal;font-family:Menlo,'DejaVu Sans Mono',consolas,'Courier New',monospace\"><span style=\"font-weight: bold\"> Trainable params: </span><span style=\"color: #00af00; text-decoration-color: #00af00\">3,393</span> (13.25 KB)\n",
              "</pre>\n"
            ]
          },
          "metadata": {}
        },
        {
          "output_type": "display_data",
          "data": {
            "text/plain": [
              "\u001b[1m Non-trainable params: \u001b[0m\u001b[38;5;34m0\u001b[0m (0.00 B)\n"
            ],
            "text/html": [
              "<pre style=\"white-space:pre;overflow-x:auto;line-height:normal;font-family:Menlo,'DejaVu Sans Mono',consolas,'Courier New',monospace\"><span style=\"font-weight: bold\"> Non-trainable params: </span><span style=\"color: #00af00; text-decoration-color: #00af00\">0</span> (0.00 B)\n",
              "</pre>\n"
            ]
          },
          "metadata": {}
        }
      ],
      "source": [
        "model.summary()"
      ]
    },
    {
      "cell_type": "markdown",
      "id": "e9a72223",
      "metadata": {
        "id": "e9a72223"
      },
      "source": [
        "## Training the Model\n",
        "Train the ANN model using the training data."
      ]
    },
    {
      "cell_type": "code",
      "execution_count": 160,
      "id": "X8b5MB2wEAHp",
      "metadata": {
        "id": "X8b5MB2wEAHp",
        "colab": {
          "base_uri": "https://localhost:8080/"
        },
        "outputId": "5f520114-f738-48ec-913e-5094396f01ec"
      },
      "outputs": [
        {
          "output_type": "stream",
          "name": "stdout",
          "text": [
            "Epoch 1/10\n",
            "\u001b[1m4819/4819\u001b[0m \u001b[32m━━━━━━━━━━━━━━━━━━━━\u001b[0m\u001b[37m\u001b[0m \u001b[1m13s\u001b[0m 2ms/step - accuracy: 0.9771 - loss: 0.0710 - val_accuracy: 0.9997 - val_loss: 0.0012\n",
            "Epoch 2/10\n",
            "\u001b[1m4819/4819\u001b[0m \u001b[32m━━━━━━━━━━━━━━━━━━━━\u001b[0m\u001b[37m\u001b[0m \u001b[1m20s\u001b[0m 2ms/step - accuracy: 0.9994 - loss: 0.0025 - val_accuracy: 0.9999 - val_loss: 2.4174e-04\n",
            "Epoch 3/10\n",
            "\u001b[1m4819/4819\u001b[0m \u001b[32m━━━━━━━━━━━━━━━━━━━━\u001b[0m\u001b[37m\u001b[0m \u001b[1m22s\u001b[0m 3ms/step - accuracy: 0.9998 - loss: 9.4765e-04 - val_accuracy: 0.9999 - val_loss: 5.4223e-04\n",
            "Epoch 4/10\n",
            "\u001b[1m4819/4819\u001b[0m \u001b[32m━━━━━━━━━━━━━━━━━━━━\u001b[0m\u001b[37m\u001b[0m \u001b[1m20s\u001b[0m 3ms/step - accuracy: 0.9998 - loss: 8.5130e-04 - val_accuracy: 1.0000 - val_loss: 7.0356e-05\n",
            "Epoch 5/10\n",
            "\u001b[1m4819/4819\u001b[0m \u001b[32m━━━━━━━━━━━━━━━━━━━━\u001b[0m\u001b[37m\u001b[0m \u001b[1m21s\u001b[0m 3ms/step - accuracy: 0.9999 - loss: 3.9235e-04 - val_accuracy: 0.9999 - val_loss: 2.1339e-04\n",
            "Epoch 6/10\n",
            "\u001b[1m4819/4819\u001b[0m \u001b[32m━━━━━━━━━━━━━━━━━━━━\u001b[0m\u001b[37m\u001b[0m \u001b[1m13s\u001b[0m 3ms/step - accuracy: 0.9999 - loss: 4.6618e-04 - val_accuracy: 0.9999 - val_loss: 3.9712e-04\n",
            "Epoch 7/10\n",
            "\u001b[1m4819/4819\u001b[0m \u001b[32m━━━━━━━━━━━━━━━━━━━━\u001b[0m\u001b[37m\u001b[0m \u001b[1m19s\u001b[0m 2ms/step - accuracy: 0.9999 - loss: 2.9509e-04 - val_accuracy: 0.9999 - val_loss: 2.0557e-04\n",
            "Epoch 8/10\n",
            "\u001b[1m4819/4819\u001b[0m \u001b[32m━━━━━━━━━━━━━━━━━━━━\u001b[0m\u001b[37m\u001b[0m \u001b[1m10s\u001b[0m 2ms/step - accuracy: 0.9999 - loss: 5.0227e-04 - val_accuracy: 1.0000 - val_loss: 3.2446e-05\n",
            "Epoch 9/10\n",
            "\u001b[1m4819/4819\u001b[0m \u001b[32m━━━━━━━━━━━━━━━━━━━━\u001b[0m\u001b[37m\u001b[0m \u001b[1m13s\u001b[0m 3ms/step - accuracy: 0.9999 - loss: 3.5129e-04 - val_accuracy: 1.0000 - val_loss: 4.4774e-06\n",
            "Epoch 10/10\n",
            "\u001b[1m4819/4819\u001b[0m \u001b[32m━━━━━━━━━━━━━━━━━━━━\u001b[0m\u001b[37m\u001b[0m \u001b[1m12s\u001b[0m 2ms/step - accuracy: 0.9998 - loss: 7.1346e-04 - val_accuracy: 1.0000 - val_loss: 7.7251e-05\n"
          ]
        }
      ],
      "source": [
        "summary = model.fit(X_train, y_train, epochs=10, batch_size=32, validation_data=(X_val, y_val))"
      ]
    },
    {
      "cell_type": "markdown",
      "id": "20ce9661",
      "metadata": {
        "id": "20ce9661"
      },
      "source": [
        "## Evaluate the Model\n",
        "Evaluate the performance of the model on the test set."
      ]
    },
    {
      "cell_type": "code",
      "execution_count": 161,
      "id": "73167afc",
      "metadata": {
        "id": "73167afc",
        "colab": {
          "base_uri": "https://localhost:8080/"
        },
        "outputId": "b2cb6404-39a7-49f7-c480-7f18e39c73f4"
      },
      "outputs": [
        {
          "output_type": "stream",
          "name": "stdout",
          "text": [
            "\u001b[1m1506/1506\u001b[0m \u001b[32m━━━━━━━━━━━━━━━━━━━━\u001b[0m\u001b[37m\u001b[0m \u001b[1m3s\u001b[0m 2ms/step - accuracy: 1.0000 - loss: 0.0012\n",
            "Test accuracy: 0.9999377727508545\n"
          ]
        }
      ],
      "source": [
        "test_loss, test_acc = model.evaluate(X_test, y_test)\n",
        "print('Test accuracy:', test_acc)\n",
        "\n"
      ]
    },
    {
      "cell_type": "markdown",
      "id": "08e9bc87",
      "metadata": {
        "id": "08e9bc87"
      },
      "source": [
        "## Make Predictions\n",
        "Use the trained model to make predictions on new or unseen data."
      ]
    },
    {
      "cell_type": "code",
      "execution_count": 163,
      "id": "940fa394",
      "metadata": {
        "id": "940fa394",
        "colab": {
          "base_uri": "https://localhost:8080/"
        },
        "outputId": "3801f7cb-032c-4254-cb22-740039ec36ed"
      },
      "outputs": [
        {
          "output_type": "stream",
          "name": "stdout",
          "text": [
            "\u001b[1m1506/1506\u001b[0m \u001b[32m━━━━━━━━━━━━━━━━━━━━\u001b[0m\u001b[37m\u001b[0m \u001b[1m3s\u001b[0m 2ms/step\n"
          ]
        }
      ],
      "source": [
        "y_val_pred = model.predict(X_test)\n",
        "y_val_pred = (y_val_pred > 0.5).astype(int)\n"
      ]
    },
    {
      "cell_type": "markdown",
      "id": "94942463",
      "metadata": {
        "id": "94942463"
      },
      "source": [
        "## Model Performance Visualization\n",
        "Visualize the performance metrics such as accuracy and loss over the epochs."
      ]
    },
    {
      "cell_type": "code",
      "execution_count": 166,
      "id": "b1955952",
      "metadata": {
        "id": "b1955952",
        "colab": {
          "base_uri": "https://localhost:8080/",
          "height": 430
        },
        "outputId": "bd0f349b-70e8-41cb-a837-ddd7b2b2e2e5"
      },
      "outputs": [
        {
          "output_type": "display_data",
          "data": {
            "text/plain": [
              "<Figure size 640x480 with 1 Axes>"
            ],
            "image/png": "[encoded data removed]"
          },
          "metadata": {}
        }
      ],
      "source": [
        "np.argmax(y_val_pred, axis = 1)\n",
        "\n",
        "\n",
        "\n",
        "pd.DataFrame(summary.history).plot()\n",
        "plt.show()"
      ]
    },
    {
      "cell_type": "markdown",
      "id": "1d32965f",
      "metadata": {
        "id": "1d32965f"
      },
      "source": [
        "## Save the Model\n",
        "Save the trained model for submission."
      ]
    },
    {
      "cell_type": "code",
      "execution_count": 167,
      "id": "a4e1f00e",
      "metadata": {
        "id": "a4e1f00e",
        "colab": {
          "base_uri": "https://localhost:8080/"
        },
        "outputId": "b3b3d25f-b5f8-40b3-93c7-f54bce75cd12"
      },
      "outputs": [
        {
          "output_type": "stream",
          "name": "stderr",
          "text": [
            "WARNING:absl:You are saving your model as an HDF5 file via `model.save()` or `keras.saving.save_model(model)`. This file format is considered legacy. We recommend using instead the native Keras format, e.g. `model.save('my_model.keras')` or `keras.saving.save_model(model, 'my_model.keras')`. \n"
          ]
        }
      ],
      "source": [
        "model.save('hatem.h5')"
      ]
    },
    {
      "cell_type": "markdown",
      "id": "9ebe9b8d",
      "metadata": {
        "id": "9ebe9b8d"
      },
      "source": [
        "## Project Questions:\n",
        "\n",
        "1. **Data Preprocessing**: Explain why you chose your specific data preprocessing techniques (e.g., normalization, encoding). How did these techniques help prepare the data for training the model?\n",
        "2. **Model Architecture**: Describe the reasoning behind your model’s architecture (e.g., the number of layers, type of layers, number of neurons, and activation functions). Why did you believe this architecture was appropriate for the problem at hand?\n",
        "3. **Training Process**: Discuss why you chose your batch size, number of epochs, and optimizer. How did these choices affect the training process? Did you experiment with different values, and what were the outcomes?\n",
        "4. **Loss Function and Metrics**: Why did you choose the specific loss function and evaluation metrics? How do they align with the objective of the task (e.g., regression vs classification)?\n",
        "5. **Regularization Techniques**: If you used regularization techniques such as dropout or weight decay, explain why you implemented them and how they influenced the model's performance.\n",
        "6. **Model Evaluation**: Justify your approach to evaluating the model. Why did you choose the specific performance metrics, and how do they reflect the model's success in solving the task?\n",
        "7. **Model Tuning (If Done)**: Describe any tuning you performed (e.g., hyperparameter tuning) and why you felt it was necessary. How did these adjustments improve model performance?\n",
        "8. **Overfitting and Underfitting**: Analyze whether the model encountered any overfitting or underfitting during training. What strategies could you implement to mitigate these issues?"
      ]
    },
    {
      "cell_type": "markdown",
      "id": "5f524a61",
      "metadata": {
        "id": "5f524a61"
      },
      "source": [
        "### Answer Here:"
      ]
    },
    {
      "cell_type": "markdown",
      "source": [
        "**Data Preprocessing:**\n",
        "\n",
        "Applied normalization (Z-score), label encoding, and SMOTE for class balance to prepare data for effective model training.\n",
        "\n",
        "**Model Architecture:**\n",
        "\n",
        "Designed with two hidden layers (64 and 32 neurons) using ReLU activation, and a dropout layer to prevent overfitting. Sigmoid activation was used for the binary output.\n",
        "\n",
        "**Training Process:**\n",
        "\n",
        "Used a batch size of 32 and 10 epochs with the Adam optimizer, balancing stability, and efficiency.\n",
        "Loss Function and Metrics:\n",
        "\n",
        "Binary cross-entropy was chosen for loss, with accuracy as the evaluation metric, aligning with the binary classification goal.\n",
        "\n",
        "**Regularization:**\n",
        "\n",
        "Implemented dropout to improve model generalization by reducing overfitting.\n",
        "\n",
        "**Model Evaluation:**\n",
        "\n",
        "Focused on accuracy and loss to assess model performance in classifying incidents.\n",
        "\n",
        "**Model Tuning:**\n",
        "\n",
        "Adjusted hyperparameters like neurons and learning rate to enhance accuracy and reduce overfitting.\n",
        "\n",
        "**Overfitting and Underfitting:**\n",
        "\n",
        "Detected slight overfitting, with dropout and other strategies considered to mitigate it."
      ],
      "metadata": {
        "id": "X8qiAD3Wgo6j"
      },
      "id": "X8qiAD3Wgo6j"
    }
  ],
  "metadata": {
    "colab": {
      "provenance": [],
      "include_colab_link": true
    },
    "kernelspec": {
      "display_name": "Python 3",
      "language": "python",
      "name": "python3"
    },
    "language_info": {
      "name": "python",
      "version": "3.12.3 (main, May 13 2024, 15:30:47) [Clang 14.0.3 (clang-1403.0.22.14.1)]"
    },
    "vscode": {
      "interpreter": {
        "hash": "b0fa6594d8f4cbf19f97940f81e996739fb7646882a419484c72d19e05852a7e"
      }
    }
  },
  "nbformat": 4,
  "nbformat_minor": 5
}